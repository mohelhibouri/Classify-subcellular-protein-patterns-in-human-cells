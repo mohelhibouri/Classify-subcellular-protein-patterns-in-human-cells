{
 "cells": [
  {
   "cell_type": "code",
   "execution_count": 20,
   "metadata": {
    "_cell_guid": "b1076dfc-b9ad-4769-8c92-a6c4dae69d19",
    "_uuid": "8f2839f25d086af736a60e9eeb907d3b93b6e0e5",
    "collapsed": true
   },
   "outputs": [],
   "source": [
    "import sys\n",
    "import os\n",
    "from matplotlib import pyplot as plt\n",
    "import pandas as pd\n",
    "import numpy as np\n",
    "\n",
    "import tensorflow as tf\n",
    "\n",
    "from multiprocessing import Pool\n",
    "\n",
    "import keras\n",
    "import keras.backend as K\n",
    "from keras.optimizers import Adam\n",
    "from keras.layers import *\n",
    "from keras.callbacks import ModelCheckpoint, EarlyStopping\n",
    "from keras.preprocessing import text, sequence\n",
    "from keras.losses import binary_crossentropy\n",
    "from keras.utils import to_categorical, Sequence\n",
    "from keras.models import Model, Input, load_model\n",
    "from keras.metrics import categorical_accuracy\n",
    "from keras.callbacks import ReduceLROnPlateau\n",
    "\n",
    "from sklearn.metrics import f1_score, precision_recall_fscore_support\n",
    "from keras.regularizers import l2\n",
    "from keras.applications.inception_resnet_v2 import InceptionResNetV2\n",
    "\n",
    "from PIL import Image\n",
    "from tqdm import tqdm\n",
    "from imageio import imread\n",
    "import imgaug as ia\n",
    "from imgaug import augmenters as iaa\n",
    "import cv2\n",
    "\n",
    "from sklearn.model_selection import train_test_split, RepeatedKFold\n",
    "from skimage.filters import sobel_h,sobel_v\n",
    "from skimage.measure import block_reduce"
   ]
  },
  {
   "cell_type": "markdown",
   "metadata": {},
   "source": [
    "# Modelling hyperparameters"
   ]
  },
  {
   "cell_type": "code",
   "execution_count": 21,
   "metadata": {
    "_uuid": "b3fd4b30584e8fdf544f23d1a56028fa5fa05d1f",
    "collapsed": true
   },
   "outputs": [],
   "source": [
    "BATCH_SIZE = 16\n",
    "SEED = 777\n",
    "SHAPE = (128, 128, 4)\n",
    "DIR = os.getcwd()\n",
    "VAL_RATIO = 0.1 # 10 % as validation\n",
    "THRESHOLD = 0.5 # due to different cost of True Positive vs False Positive, this is the probability threshold to predict the class as 'yes'\n",
    "\n",
    "ia.seed(SEED)\n",
    "\n",
    "train_path = 'train/'\n",
    "train_labels = pd.read_csv('./train.csv')\n",
    "labels_path = './train.csv'\n",
    "labels = train_labels"
   ]
  },
  {
   "cell_type": "markdown",
   "metadata": {},
   "source": [
    "# Features augmentation "
   ]
  },
  {
   "cell_type": "markdown",
   "metadata": {},
   "source": [
    "## Edge detection using a sobel kernel"
   ]
  },
  {
   "cell_type": "code",
   "execution_count": 22,
   "metadata": {
    "collapsed": true
   },
   "outputs": [],
   "source": [
    "def grad(image):\n",
    "    grad_x0=sobel_h(image[:,:,0])\n",
    "    grad_y0=sobel_v(image[:,:,0])\n",
    "    grad0=np.sqrt(grad_x0*grad_x0+grad_y0*grad_y0).T\n",
    "    \n",
    "    grad_x1=sobel_h(image[:,:,1])\n",
    "    grad_y1=sobel_v(image[:,:,1])\n",
    "    grad1=np.sqrt(grad_x1*grad_x1+grad_y1*grad_y1).T\n",
    "    \n",
    "    grad_x2=sobel_h(image[:,:,2])\n",
    "    grad_y2=sobel_v(image[:,:,2])\n",
    "    grad2=np.sqrt(grad_x2*grad_x2+grad_y2*grad_y2).T\n",
    "    \n",
    "    grad_x3=sobel_h(image[:,:,3])\n",
    "    grad_y3=sobel_v(image[:,:,3])\n",
    "    grad3=np.sqrt(grad_x3*grad_x3+grad_y3*grad_y3).T\n",
    "    \n",
    "    return np.array([grad0,grad1,grad2, grad3]).T\n",
    "\n",
    "def grad_threshold(image, eps):\n",
    "    \n",
    "    return (grad(image) > eps)*255"
   ]
  },
  {
   "cell_type": "markdown",
   "metadata": {},
   "source": [
    "## Compute gradient in multiple direction"
   ]
  },
  {
   "cell_type": "code",
   "execution_count": 23,
   "metadata": {
    "collapsed": true
   },
   "outputs": [],
   "source": [
    "def dirrectional_grad(image,theta):\n",
    "    \n",
    "    grad_x0 = np.cos(theta)*sobel_h(image[:,:,0]) + np.sin(theta)*sobel_v(image[:,:,0])\n",
    "    grad_x1 = np.cos(theta)*sobel_h(image[:,:,1]) + np.sin(theta)*sobel_v(image[:,:,1])\n",
    "    grad_x2 = np.cos(theta)*sobel_h(image[:,:,2]) + np.sin(theta)*sobel_v(image[:,:,2])\n",
    "    grad_x3 = np.cos(theta)*sobel_h(image[:,:,3]) + np.sin(theta)*sobel_v(image[:,:,3])\n",
    "    \n",
    "    grad0= np.maximum(grad_x0,0).T\n",
    "    grad1= np.maximum(grad_x1,0).T\n",
    "    grad2= np.maximum(grad_x2,0).T\n",
    "    grad3= np.maximum(grad_x3,0).T\n",
    "    image= np.array([grad0,grad1,grad2, grad3]).T\n",
    "    return image"
   ]
  },
  {
   "cell_type": "markdown",
   "metadata": {},
   "source": [
    "# Data generator"
   ]
  },
  {
   "cell_type": "code",
   "execution_count": 24,
   "metadata": {
    "_uuid": "fd1045b817e77ff540e789ea3b0eea22bcdb9a6f",
    "collapsed": true
   },
   "outputs": [],
   "source": [
    "def getTrainDataset():\n",
    "    \n",
    "    path_to_train = 'train/'\n",
    "    data = pd.read_csv('./train.csv')\n",
    "\n",
    "    paths = []\n",
    "    labels = []\n",
    "    \n",
    "    for name, lbl in zip(data['Id'], data['Target'].str.split(' ')):\n",
    "        y = np.zeros(28)\n",
    "        for key in lbl:\n",
    "            y[int(key)] = 1\n",
    "        paths.append(os.path.join(path_to_train, name))\n",
    "        labels.append(y)\n",
    "\n",
    "    return np.array(paths), np.array(labels)\n",
    "\n",
    "def getTestDataset():\n",
    "    \n",
    "    path_to_test = 'test'\n",
    "    data = pd.read_csv('sample_submission.csv')\n",
    "\n",
    "    paths = []\n",
    "    labels = []\n",
    "    \n",
    "    for name in data['Id']:\n",
    "        y = np.ones(28)\n",
    "        paths.append(os.path.join(path_to_test, name))\n",
    "        labels.append(y)\n",
    "\n",
    "    return np.array(paths), np.array(labels)\n"
   ]
  },
  {
   "cell_type": "code",
   "execution_count": 25,
   "metadata": {
    "_cell_guid": "79c7e3d0-c299-4dcb-8224-4455121ee9b0",
    "_uuid": "d629ff2d2480ee46fbb7e2d37f6b5fab8052498a",
    "collapsed": true
   },
   "outputs": [],
   "source": [
    "# credits: https://github.com/keras-team/keras/blob/master/keras/utils/data_utils.py#L302\n",
    "# credits: https://stanford.edu/~shervine/blog/keras-how-to-generate-data-on-the-fly\n",
    "\n",
    "class ProteinDataGenerator(keras.utils.Sequence):\n",
    "            \n",
    "    def __init__(self, paths, labels, batch_size, shape, grad, dir_grad, grad_threshold, nb_threshold, nb_rot, reduce, block_size, shuffle = False, use_cache = False, augment = False):\n",
    "        self.paths, self.labels = paths, labels\n",
    "        self.batch_size = batch_size\n",
    "        self.shuffle = shuffle\n",
    "        self.use_cache = use_cache\n",
    "        self.augment = augment\n",
    "        self.grad = grad\n",
    "        self.dir_grad = dir_grad\n",
    "        self.grad_threshold = grad_threshold\n",
    "        self.nb_threshold = nb_threshold \n",
    "        self.nb_rot = nb_rot\n",
    "        self.reduce = reduce\n",
    "        self.block_size = block_size\n",
    "        self.shape_features = self.Shape(shape)\n",
    "        self.shape = (self.batch_size, self.shape_features[0], self.shape_features[1], self.shape_features[2])\n",
    "        if use_cache == True:\n",
    "            self.cache = np.zeros((paths.shape[0], shape[0], shape[1], shape[2]), dtype=np.float16)\n",
    "            self.is_cached = np.zeros((paths.shape[0]))\n",
    "        self.on_epoch_end()\n",
    "    \n",
    "    def __len__(self):\n",
    "        return int(np.ceil(len(self.paths) / float(self.batch_size)))\n",
    "    \n",
    "    # using block to reduce the image size\n",
    "    def Reduce(self, images):\n",
    "        block=(self.block_size,self.block_size,1)\n",
    "        return block_reduce(images,block,np.mean)\n",
    "    \n",
    "    # creating new channels with features augmentation\n",
    "    def features_aumentation(self, image):    \n",
    "\n",
    "        grad_= self.grad\n",
    "        dir_grad_= self.dir_grad\n",
    "        grad_threshold_= self.grad_threshold\n",
    "\n",
    "        a=image\n",
    "\n",
    "        if grad_:\n",
    "            a=np.append(a,grad(image), axis=2)\n",
    "\n",
    "        if dir_grad_:\n",
    "            rot=np.arange(0, 360, 360//self.nb_rot)\n",
    "            for i in rot:\n",
    "                a=np.append(a,dirrectional_grad(image,i), axis=2)\n",
    "\n",
    "        if grad_threshold_:\n",
    "            eps=np.arange(0,128,128//self.nb_threshold)\n",
    "            for e in eps:      \n",
    "                a=np.append(a, grad_threshold(image,e), axis=2)\n",
    "\n",
    "        return a\n",
    "    \n",
    "    # compute the shape of the input according to the features augmentation\n",
    "    def Shape(self,shape):\n",
    "        \n",
    "        if self.reduce | self.block_size != 0: \n",
    "            h = shape[0]//self.block_size\n",
    "            h_rest = (shape[0] % self.block_size)>0\n",
    "        else:\n",
    "            h, h_rest= shape[0], 0\n",
    "\n",
    "        return (h+h_rest, h+h_rest, 4 + 4*self.grad + self.dir_grad*4*len(np.arange(0, 360, 360//self.nb_rot)) + self.grad_threshold*4*len(np.arange(0,128,128//self.nb_threshold)))\n",
    "    \n",
    "    #load the data according to the choice of the hyperparameters\n",
    "    def get_loader(self,list_id):\n",
    "\n",
    "        filenames = []\n",
    "        idx = 0\n",
    "        images = np.zeros(self.batch_shape)\n",
    "\n",
    "        for image_id in list_id:\n",
    "            \n",
    "            if self.reduce:\n",
    "                images[idx,:,:,:] = self.Reduce(self.features_aumentation(load_image(self.basepath, image_id)))\n",
    "            else:\n",
    "                images[idx,:,:,:] = self.features_aumentation(load_image(self.basepath, image_id))\n",
    "            \n",
    "            filenames.append(image_id)\n",
    "            idx += 1\n",
    "            if idx == self.batch_shape[0]:\n",
    "                images = np.array(images)\n",
    "\n",
    "                return filenames, get_label(filenames,self.labels), images\n",
    "                \n",
    "                filenames = []\n",
    "                images = np.zeros(self.batch_shape)\n",
    "                idx = 0\n",
    "        \n",
    "        if idx > 0:\n",
    "\n",
    "            images = np.array(images)\n",
    "            return filenames, get_label(filenames,self.labels), images\n",
    "        \n",
    "    def __getitem__(self, idx):\n",
    "        indexes = self.indexes[idx * self.batch_size : (idx+1) * self.batch_size]\n",
    "\n",
    "        paths = self.paths[indexes]\n",
    "        X = np.zeros(self.shape)\n",
    "        # Generate data\n",
    "        if self.use_cache == True:\n",
    "            X = self.cache[indexes]\n",
    "            \n",
    "            if self.reduce:\n",
    "                \n",
    "                for i, path in enumerate(paths[np.where(self.is_cached[indexes] == 0)]):\n",
    "                    image = self.__load_image(path)\n",
    "                    image = self.Reduce(self.features_aumentation(image))\n",
    "                    self.is_cached[indexes[i]] = 1\n",
    "                    self.cache[indexes[i]] = self.Reduce(self.features_aumentation(image))\n",
    "                    X[i] = image\n",
    "            else:\n",
    "            \n",
    "                for i, path in enumerate(paths[np.where(self.is_cached[indexes] == 0)]):\n",
    "                    image = self.__load_image(path)\n",
    "                    image = self.features_aumentation(image)\n",
    "                    self.is_cached[indexes[i]] = 1\n",
    "                    self.cache[indexes[i]] = image\n",
    "                    X[i] = image\n",
    "        else:\n",
    "            \n",
    "            if self.reduce:\n",
    "                \n",
    "                for i, path in enumerate(paths):\n",
    "                    image = self.__load_image(path)\n",
    "                    image = self.Reduce(self.features_aumentation(image))\n",
    "                    X[i] = image\n",
    "            else:\n",
    "                for i, path in enumerate(paths):\n",
    "                    image = self.__load_image(path)\n",
    "                    image = self.features_aumentation(image)\n",
    "                    X[i] = image\n",
    "\n",
    "        y = self.labels[indexes]\n",
    "        \n",
    "        #augment the data using different methods randomly\n",
    "        if self.augment == True:\n",
    "            seq = iaa.Sequential([\n",
    "                iaa.OneOf([\n",
    "                    iaa.Affine(rotate=0),\n",
    "                    iaa.Affine(rotate=90),\n",
    "                    iaa.Affine(rotate=180),\n",
    "                    iaa.Affine(rotate=270),\n",
    "                    iaa.Fliplr(0.5),\n",
    "                    iaa.Flipud(0.5),\n",
    "                    iaa.Crop(percent=(0, 0.1)), # random crops\n",
    "                    # Small gaussian blur with random sigma between 0 and 0.5.\n",
    "                    # But we only blur about 50% of all images.\n",
    "                    iaa.Sometimes(0.5,\n",
    "                        iaa.GaussianBlur(sigma=(0, 0.5))\n",
    "                    ),\n",
    "                    # Strengthen or weaken the contrast in each image.\n",
    "                    iaa.ContrastNormalization((0.75, 1.5)),\n",
    "                    # Add gaussian noise.\n",
    "                    # For 50% of all images, we sample the noise once per pixel.\n",
    "                    # For the other 50% of all images, we sample the noise per pixel AND\n",
    "                    # channel. This can change the color (not only brightness) of the\n",
    "                    # pixels.\n",
    "                    iaa.AdditiveGaussianNoise(loc=0, scale=(0.0, 0.05*255), per_channel=0.5),\n",
    "                    # Make some images brighter and some darker.\n",
    "                    # In 20% of all cases, we sample the multiplier once per channel,\n",
    "                    # which can end up changing the color of the images.\n",
    "                    iaa.Multiply((0.8, 1.2), per_channel=0.2),\n",
    "                    # Apply affine transformations to each image.\n",
    "                    # Scale/zoom them, translate/move them, rotate them and shear them.\n",
    "                    iaa.Affine(\n",
    "                        scale={\"x\": (0.8, 1.2), \"y\": (0.8, 1.2)},\n",
    "                        translate_percent={\"x\": (-0.2, 0.2), \"y\": (-0.2, 0.2)},\n",
    "                        rotate=(-180, 180),\n",
    "                        shear=(-8, 8)\n",
    "                    )\n",
    "                ])], random_order=True)\n",
    "\n",
    "            X = np.concatenate((X, seq.augment_images(X), seq.augment_images(X), seq.augment_images(X)), 0)\n",
    "            y = np.concatenate((y, y, y, y), 0)\n",
    "        \n",
    "        return X, y\n",
    "    \n",
    "    def on_epoch_end(self):\n",
    "        \n",
    "        # Updates indexes after each epoch\n",
    "        self.indexes = np.arange(len(self.paths))\n",
    "        if self.shuffle == True:\n",
    "            np.random.shuffle(self.indexes)\n",
    "\n",
    "    def __iter__(self):\n",
    "        \"\"\"Create a generator that iterate over the Sequence.\"\"\"\n",
    "        for item in (self[i] for i in range(len(self))):\n",
    "            yield item\n",
    "    \n",
    "    # load images       \n",
    "    def __load_image(self, path):\n",
    "        R = Image.open(path + '_red.png')\n",
    "        G = Image.open(path + '_green.png')\n",
    "        B = Image.open(path + '_blue.png')\n",
    "        Y = Image.open(path + '_yellow.png')\n",
    "\n",
    "        im = np.stack((\n",
    "            np.array(R), \n",
    "            np.array(G), \n",
    "            np.array(B),\n",
    "            np.array(Y)), -1)\n",
    "        \n",
    "        im = cv2.resize(im, (SHAPE[0], SHAPE[1]))\n",
    "        im = np.divide(im, 255)\n",
    "        return im"
   ]
  },
  {
   "cell_type": "code",
   "execution_count": 26,
   "metadata": {
    "_uuid": "5748b96367ce78ea9bce4a34a40a66dd5a49e945",
    "collapsed": true
   },
   "outputs": [],
   "source": [
    "# credits: https://www.kaggle.com/guglielmocamporese/macro-f1-score-keras\n",
    "# define metrics for the training\n",
    "\n",
    "def f1(y_true, y_pred):\n",
    "    #y_pred = K.round(y_pred)\n",
    "    y_pred = K.cast(K.greater(K.clip(y_pred, 0, 1), THRESHOLD), K.floatx())\n",
    "    tp = K.sum(K.cast(y_true*y_pred, 'float'), axis=0)\n",
    "    tn = K.sum(K.cast((1-y_true)*(1-y_pred), 'float'), axis=0)\n",
    "    fp = K.sum(K.cast((1-y_true)*y_pred, 'float'), axis=0)\n",
    "    fn = K.sum(K.cast(y_true*(1-y_pred), 'float'), axis=0)\n",
    "\n",
    "    p = tp / (tp + fp + K.epsilon())\n",
    "    r = tp / (tp + fn + K.epsilon())\n",
    "\n",
    "    f1 = 2*p*r / (p+r+K.epsilon())\n",
    "    f1 = tf.where(tf.is_nan(f1), tf.zeros_like(f1), f1)\n",
    "    return K.mean(f1)\n",
    "\n",
    "def f1_loss(y_true, y_pred):\n",
    "    \n",
    "    #y_pred = K.cast(K.greater(K.clip(y_pred, 0, 1), THRESHOLD), K.floatx())\n",
    "    tp = K.sum(K.cast(y_true*y_pred, 'float'), axis=0)\n",
    "    tn = K.sum(K.cast((1-y_true)*(1-y_pred), 'float'), axis=0)\n",
    "    fp = K.sum(K.cast((1-y_true)*y_pred, 'float'), axis=0)\n",
    "    fn = K.sum(K.cast(y_true*(1-y_pred), 'float'), axis=0)\n",
    "\n",
    "    p = tp / (tp + fp + K.epsilon())\n",
    "    r = tp / (tp + fn + K.epsilon())\n",
    "\n",
    "    f1 = 2*p*r / (p+r+K.epsilon())\n",
    "    f1 = tf.where(tf.is_nan(f1), tf.zeros_like(f1), f1)\n",
    "    return 1-K.mean(f1)"
   ]
  },
  {
   "cell_type": "code",
   "execution_count": 27,
   "metadata": {
    "collapsed": true
   },
   "outputs": [],
   "source": [
    "# get the shape after cropping images\n",
    "\n",
    "def get_crop_shape(target, refer):\n",
    "    # width, the 3rd dimension\n",
    "    cw = (target.get_shape()[2] - refer.get_shape()[2]).value\n",
    "    assert (cw >= 0)\n",
    "    if cw % 2 != 0:\n",
    "        cw1, cw2 = int(cw/2), int(cw/2) + 1\n",
    "    else:\n",
    "        cw1, cw2 = int(cw/2), int(cw/2)\n",
    "    # height, the 2nd dimension\n",
    "    ch = (target.get_shape()[1] - refer.get_shape()[1]).value\n",
    "    assert (ch >= 0)\n",
    "    if ch % 2 != 0:\n",
    "        ch1, ch2 = int(ch/2), int(ch/2) + 1\n",
    "    else:\n",
    "        ch1, ch2 = int(ch/2), int(ch/2)\n",
    "\n",
    "    return (ch1, ch2), (cw1, cw2)"
   ]
  },
  {
   "cell_type": "markdown",
   "metadata": {},
   "source": [
    "# VGG"
   ]
  },
  {
   "cell_type": "code",
   "execution_count": 28,
   "metadata": {
    "collapsed": true
   },
   "outputs": [],
   "source": [
    "def create_VGG(input_shape, BATCH_NORM = True):\n",
    "\n",
    "    input_layer = Input(input_shape)\n",
    "    num_classes = 28\n",
    "\n",
    "    x = Conv2D(64, (3, 3), padding='same', name='block1_conv1')(input_layer)\n",
    "    x = BatchNormalization()(x) if BATCH_NORM else None\n",
    "    x = Activation('relu')(x)\n",
    "\n",
    "    x = Conv2D(64, (3, 3), padding='same', name='block1_conv2')(x)\n",
    "    x = BatchNormalization()(x) if BATCH_NORM else None\n",
    "    x = Activation('relu')(x)\n",
    "\n",
    "    x = MaxPooling2D((2, 2), strides=(2, 2), name='block1_pool')(x)\n",
    "\n",
    "    x = Conv2D(128, (3, 3), padding='same', name='block2_conv1')(x)\n",
    "    x = BatchNormalization()(x) if BATCH_NORM else None\n",
    "    x = Activation('relu')(x)\n",
    "\n",
    "    x = Conv2D(128, (3, 3), padding='same', name='block2_conv2')(x)\n",
    "    x = BatchNormalization()(x) if BATCH_NORM else None\n",
    "    x = Activation('relu')(x)\n",
    "    x = MaxPooling2D((2, 2), strides=(2, 2), name='block2_pool')(x)\n",
    "\n",
    "    x = Conv2D(256, (3, 3), padding='same', name='block3_conv1')(x)\n",
    "    x = BatchNormalization()(x) if BATCH_NORM else None\n",
    "    x = Activation('relu')(x)\n",
    "\n",
    "    x = Conv2D(256, (3, 3), padding='same', name='block3_conv2')(x)\n",
    "    x = BatchNormalization()(x) if BATCH_NORM else None\n",
    "    x = Activation('relu')(x)\n",
    "\n",
    "    x = Conv2D(256, (3, 3), padding='same', name='block3_conv3')(x)\n",
    "    x = BatchNormalization()(x) if BATCH_NORM else None\n",
    "    x = Activation('relu')(x)\n",
    "\n",
    "    x = Conv2D(256, (3, 3), padding='same', name='block3_conv4')(x)\n",
    "    x = BatchNormalization()(x) if BATCH_NORM else None\n",
    "    x = Activation('relu')(x)\n",
    "\n",
    "    x = MaxPooling2D((2, 2), strides=(2, 2), name='block3_pool')(x)\n",
    "\n",
    "    x = Conv2D(512, (3, 3), padding='same', name='block4_conv1')(x)\n",
    "    x = BatchNormalization()(x) if BATCH_NORM else None\n",
    "    x = Activation('relu')(x)\n",
    "\n",
    "    x = Conv2D(512, (3, 3), padding='same', name='block4_conv2')(x)\n",
    "    x = BatchNormalization()(x) if BATCH_NORM else None\n",
    "    x = Activation('relu')(x)\n",
    "\n",
    "    x = Conv2D(512, (3, 3), padding='same', name='block4_conv3')(x)\n",
    "    x = BatchNormalization()(x) if BATCH_NORM else None\n",
    "    x = Activation('relu')(x)\n",
    "\n",
    "    x = Conv2D(512, (3, 3), padding='same', name='block4_conv4')(x)\n",
    "    x = BatchNormalization()(x) if BATCH_NORM else None\n",
    "    x = Activation('relu')(x)\n",
    "    x = MaxPooling2D((2, 2), strides=(2, 2), name='block4_pool')(x)\n",
    "\n",
    "    x = Conv2D(512, (3, 3), padding='same', name='block5_conv1')(x)\n",
    "    x = BatchNormalization()(x) if BATCH_NORM else None\n",
    "    x = Activation('relu')(x)\n",
    "\n",
    "    x = Conv2D(512, (3, 3), padding='same', name='block5_conv2')(x)\n",
    "    x = BatchNormalization()(x) if BATCH_NORM else None\n",
    "    x = Activation('relu')(x)\n",
    "\n",
    "    x = Conv2D(512, (3, 3), padding='same', name='block5_conv3')(x)\n",
    "    x = BatchNormalization()(x) if BATCH_NORM else None\n",
    "    x = Activation('relu')(x)\n",
    "\n",
    "    x = Conv2D(512, (3, 3), padding='same', name='block5_conv4')(x)\n",
    "    x = BatchNormalization()(x)if BATCH_NORM else None\n",
    "    x = Activation('relu')(x)\n",
    "\n",
    "    x = Flatten()(x)\n",
    "\n",
    "    x = Dense(4096)(x)\n",
    "    x = BatchNormalization()(x) if BATCH_NORM else None\n",
    "    x = Activation('relu')(x)\n",
    "\n",
    "    x = Dropout(0.5)(x)\n",
    "\n",
    "    x = Dense(4096, name='fc2')(x)\n",
    "    x = BatchNormalization()(x) if BATCH_NORM else None\n",
    "    x = Activation('relu')(x)\n",
    "    x = Dropout(0.5)(x)\n",
    "\n",
    "    x = Dense(num_classes)(x)\n",
    "    x = BatchNormalization()(x) if BATCH_NORM else None\n",
    "    x = Activation('sigmoid')(x)\n",
    "\n",
    "    model = Model(inputs=input_layer, outputs=x)\n",
    "\n",
    "    return model"
   ]
  },
  {
   "cell_type": "markdown",
   "metadata": {},
   "source": [
    "# Spoon model"
   ]
  },
  {
   "cell_type": "code",
   "execution_count": 29,
   "metadata": {
    "_uuid": "2d9bbc05fdf72242f8f98422ef9c480a353f4fe3",
    "collapsed": true
   },
   "outputs": [],
   "source": [
    "# spoon-net\n",
    "\n",
    "def create_model(input_shape):\n",
    "    \n",
    "    concat_axis = 3\n",
    "    input = Input(input_shape)\n",
    "        \n",
    "    conv1 = Conv2D(32, (3, 3), padding=\"same\", name=\"conv1_1\", kernel_initializer='uniform',activation=\"relu\", data_format=\"channels_last\")(input)\n",
    "    conv1 = Conv2D(32, (3, 3), padding=\"same\", activation=\"relu\", kernel_initializer='uniform',data_format=\"channels_last\")(conv1)\n",
    "    pool1 = MaxPooling2D(pool_size=(2, 2), data_format=\"channels_last\")(conv1)\n",
    "    pool1= BatchNormalization()(pool1)\n",
    "\n",
    "    conv2 = Conv2D(64, (3, 3), padding=\"same\", activation=\"relu\", kernel_initializer='uniform',data_format=\"channels_last\")(pool1)\n",
    "    conv2 = Conv2D(64, (3, 3), padding=\"same\", activation=\"relu\", kernel_initializer='uniform',data_format=\"channels_last\")(conv2)\n",
    "    pool2 = MaxPooling2D(pool_size=(2, 2), data_format=\"channels_last\")(conv2)\n",
    "    pool2= BatchNormalization()(pool2)\n",
    "\n",
    "    conv3 = Conv2D(128, (3, 3), padding=\"same\", activation=\"relu\", kernel_initializer='uniform',data_format=\"channels_last\")(pool2)\n",
    "    conv3 = Conv2D(128, (3, 3), padding=\"same\", activation=\"relu\", kernel_initializer='uniform',data_format=\"channels_last\")(conv3)\n",
    "    pool3 = MaxPooling2D(pool_size=(2, 2), data_format=\"channels_last\")(conv3)\n",
    "    pool3= BatchNormalization()(pool3)\n",
    "\n",
    "    conv4 = Conv2D(256, (3, 3), padding=\"same\", activation=\"relu\", kernel_initializer='uniform',data_format=\"channels_last\")(pool3)\n",
    "    conv4 = Conv2D(256, (3, 3), padding=\"same\", activation=\"relu\", kernel_initializer='uniform',data_format=\"channels_last\")(conv4)\n",
    "    pool4 = MaxPooling2D(pool_size=(2, 2), data_format=\"channels_last\")(conv4)\n",
    "    pool4= BatchNormalization()(pool4)\n",
    "\n",
    "    conv5 = Conv2D(512, (3, 3), padding=\"same\", activation=\"relu\", kernel_initializer='uniform',data_format=\"channels_last\")(pool4)\n",
    "    conv5 = Conv2D(512, (3, 3), padding=\"same\", activation=\"relu\", kernel_initializer='uniform',data_format=\"channels_last\")(conv5)\n",
    "\n",
    "    up_conv5 = UpSampling2D(size=(2, 2),data_format=\"channels_last\")(conv5)\n",
    "    ch, cw = get_crop_shape(conv4, up_conv5)\n",
    "    crop_conv4 = Cropping2D(cropping=(ch,cw), data_format=\"channels_last\")(conv4)\n",
    "    up6   = concatenate([up_conv5, crop_conv4], axis=concat_axis)\n",
    "    conv6 = Conv2D(256, (3, 3), padding=\"same\", activation=\"relu\", kernel_initializer='uniform',data_format=\"channels_last\")(up6)\n",
    "    conv6 = Conv2D(256, (3, 3), padding=\"same\", activation=\"relu\", kernel_initializer='uniform',data_format=\"channels_last\")(conv6)\n",
    "\n",
    "    up_conv6 = UpSampling2D(size=(2, 2),data_format=\"channels_last\")(conv6)\n",
    "    ch, cw = get_crop_shape(conv3, up_conv6)\n",
    "    crop_conv3 = Cropping2D(cropping=(ch,cw), data_format=\"channels_last\")(conv3)\n",
    "    up7   = concatenate([up_conv6, crop_conv3], axis=concat_axis)\n",
    "    conv7 = Conv2D(128, (3, 3), padding=\"same\", activation=\"relu\", kernel_initializer='uniform',data_format=\"channels_last\")(up7)\n",
    "    conv7 = Conv2D(128, (3, 3), padding=\"same\", activation=\"relu\", kernel_initializer='uniform',data_format=\"channels_last\")(conv7)\n",
    "\n",
    "    up_conv7 = UpSampling2D(size=(2, 2), data_format=\"channels_last\")(conv7)\n",
    "    ch, cw = get_crop_shape(conv2, up_conv7)\n",
    "    crop_conv2 = Cropping2D(cropping=(ch,cw), data_format=\"channels_last\")(conv2)\n",
    "    up8   = concatenate([up_conv7, crop_conv2], axis=concat_axis)\n",
    "    conv8 = Conv2D(64, (3, 3), padding=\"same\", activation=\"relu\", kernel_initializer='uniform',data_format=\"channels_last\")(up8)\n",
    "    conv8 = Conv2D(64, (3, 3), padding=\"same\", activation=\"relu\", kernel_initializer='uniform',data_format=\"channels_last\")(conv8)\n",
    "\n",
    "    up_conv8 = UpSampling2D(size=(2, 2), data_format=\"channels_last\")(conv8)\n",
    "    ch, cw = get_crop_shape(conv1, up_conv8)\n",
    "    crop_conv1 = Cropping2D(cropping=(ch,cw), data_format=\"channels_last\")(conv1)\n",
    "    up9   = concatenate([up_conv8, crop_conv1], axis=concat_axis)\n",
    "    conv9 = Conv2D(32, (3, 3), padding=\"same\", activation=\"relu\", kernel_initializer='uniform', data_format=\"channels_last\")(up9)\n",
    "    conv9 = Conv2D(32, (3, 3), padding=\"same\", activation=\"relu\", kernel_initializer='uniform', data_format=\"channels_last\")(conv9)\n",
    "\n",
    "    x= conv9\n",
    "\n",
    "    A = Conv2D(32, kernel_size=3, strides=2, padding='valid', activation='relu', kernel_initializer='uniform',kernel_regularizer=l2(0.001))(x)\n",
    "    A = MaxPooling2D(pool_size=2, strides=1, padding=\"valid\")(A)\n",
    "    A = BatchNormalization()(A)\n",
    "\n",
    "    B = Conv2D(32, kernel_size=3, strides=2, padding='valid', activation='relu', kernel_initializer='uniform',kernel_regularizer=l2(0.001))(A)\n",
    "    B = MaxPooling2D(pool_size=2, strides=1, padding=\"valid\")(B)\n",
    "    B= BatchNormalization()(B)\n",
    "\n",
    "    C = Conv2D(32, kernel_size=3, strides=1, padding='valid', activation='relu', kernel_initializer='uniform',kernel_regularizer=l2(0.001))(B)\n",
    "    C = MaxPooling2D(pool_size=2, strides=1, padding=\"valid\")(C)\n",
    "    C = BatchNormalization()(C)\n",
    "\n",
    "    D = Conv2D(32, kernel_size=3, strides=1, padding='valid', activation='relu', kernel_initializer='uniform',kernel_regularizer=l2(0.001))(C)\n",
    "    D = MaxPooling2D(pool_size=2, strides=1, padding=\"valid\")(D)\n",
    "    D = BatchNormalization()(D)\n",
    "\n",
    "    E = Conv2D(32, kernel_size=3, strides=1, padding='valid', activation='relu', kernel_initializer='uniform',kernel_regularizer=l2(0.001))(D)\n",
    "    E = MaxPooling2D(pool_size=2, strides=1, padding=\"valid\")(E)\n",
    "    E = BatchNormalization()(E)\n",
    "\n",
    "    F = Conv2D(32, kernel_size=3, strides=1, padding='valid', activation='relu', kernel_initializer='uniform',kernel_regularizer=l2(0.001))(E)\n",
    "    F = MaxPooling2D(pool_size=2, strides=1, padding=\"valid\")(F)\n",
    "    F = BatchNormalization()(F)\n",
    "\n",
    "    G = Conv2D(32, kernel_size=3, strides=1, padding='valid', activation='relu', kernel_initializer='uniform',kernel_regularizer=l2(0.001))(F)\n",
    "    G = MaxPooling2D(pool_size=2, strides=1, padding=\"valid\")(G)\n",
    "    G = BatchNormalization()(G)\n",
    "\n",
    "    H = Conv2D(32, kernel_size=3, strides=1, padding='valid', activation='relu', kernel_initializer='uniform',kernel_regularizer=l2(0.001))(G)\n",
    "    H = MaxPooling2D(pool_size=2, strides=1, padding=\"valid\")(H)\n",
    "    H = BatchNormalization()(H)\n",
    "\n",
    "    H= Flatten()(H)\n",
    "    H= Dropout(0.3)(H)\n",
    "\n",
    "    x = Dense((128),activation='relu', kernel_regularizer=l2(0.001), kernel_initializer='uniform')(H)\n",
    "\n",
    "    x=Dropout (0.3)(x)\n",
    "    x=Dense((256),activation='relu', kernel_regularizer=l2(0.001), kernel_initializer='uniform')(x)\n",
    "\n",
    "    output = Dense(28, activation = \"sigmoid\", kernel_initializer='uniform')(x)\n",
    "\n",
    "    model = Model(inputs=[input], outputs=[output])\n",
    "\n",
    "    return model"
   ]
  },
  {
   "cell_type": "markdown",
   "metadata": {},
   "source": [
    "# Data input"
   ]
  },
  {
   "cell_type": "code",
   "execution_count": 30,
   "metadata": {
    "collapsed": true
   },
   "outputs": [],
   "source": [
    "paths, labels = getTrainDataset()"
   ]
  },
  {
   "cell_type": "code",
   "execution_count": 31,
   "metadata": {
    "collapsed": true
   },
   "outputs": [],
   "source": [
    "# divide to \n",
    "keys = np.arange(paths.shape[0], dtype=np.int)  \n",
    "np.random.seed(SEED)\n",
    "np.random.shuffle(keys)\n",
    "lastTrainIndex = int((1-VAL_RATIO) * paths.shape[0])"
   ]
  },
  {
   "cell_type": "code",
   "execution_count": 32,
   "metadata": {
    "collapsed": true
   },
   "outputs": [],
   "source": [
    "pathsTrain = paths[0:lastTrainIndex]\n",
    "labelsTrain = labels[0:lastTrainIndex]\n",
    "pathsVal = paths[lastTrainIndex:]\n",
    "labelsVal = labels[lastTrainIndex:]"
   ]
  },
  {
   "cell_type": "code",
   "execution_count": 33,
   "metadata": {},
   "outputs": [
    {
     "name": "stdout",
     "output_type": "stream",
     "text": [
      "(31072,) (31072, 28)\n",
      "(27964,) (27964, 28) (3108,) (3108, 28)\n"
     ]
    }
   ],
   "source": [
    "print(paths.shape, labels.shape)\n",
    "print(pathsTrain.shape, labelsTrain.shape, pathsVal.shape, labelsVal.shape)"
   ]
  },
  {
   "cell_type": "markdown",
   "metadata": {},
   "source": [
    "## Define train and validation set"
   ]
  },
  {
   "cell_type": "code",
   "execution_count": 34,
   "metadata": {
    "collapsed": true
   },
   "outputs": [],
   "source": [
    "tg = ProteinDataGenerator(pathsTrain, labelsTrain, BATCH_SIZE, SHAPE,\n",
    "                          grad = False, dir_grad = False, grad_threshold = False,\n",
    "                          nb_rot= 4, nb_threshold=6, reduce=False, block_size=1,\n",
    "                          use_cache=False, augment = False, shuffle = False)"
   ]
  },
  {
   "cell_type": "code",
   "execution_count": 35,
   "metadata": {
    "collapsed": true
   },
   "outputs": [],
   "source": [
    "vg = ProteinDataGenerator(pathsVal, labelsVal, BATCH_SIZE, SHAPE,\n",
    "                          grad = False, dir_grad = False, grad_threshold = False,\n",
    "                          nb_rot= 4, nb_threshold=6, reduce=False, block_size=1,\n",
    "                          use_cache=False, shuffle = False)"
   ]
  },
  {
   "cell_type": "markdown",
   "metadata": {},
   "source": [
    "# Training"
   ]
  },
  {
   "cell_type": "code",
   "execution_count": null,
   "metadata": {
    "_uuid": "b8831e442b8f5461dfc37da4292f66e1684c84c8",
    "collapsed": true
   },
   "outputs": [],
   "source": [
    "# https://keras.io/callbacks/#modelcheckpoint\n",
    "checkpoint = ModelCheckpoint('./spoon_augm.model', monitor='val_f1', verbose=1, save_best_only=True, save_weights_only=False, mode='min', period=1)\n",
    "reduceLROnPlato = ReduceLROnPlateau(monitor='val_loss', factor=0.5, patience=3, verbose=1, mode='min')"
   ]
  },
  {
   "cell_type": "code",
   "execution_count": null,
   "metadata": {
    "_uuid": "a4982e06ba3bb236e2bb10b0b08683c93149a61c",
    "collapsed": true,
    "scrolled": true
   },
   "outputs": [],
   "source": [
    "model = create_model(tg.shape_features)\n",
    "model.compile(\n",
    "    loss='binary_crossentropy',\n",
    "    optimizer=Adam(1e-03),\n",
    "    metrics=['acc',f1])\n",
    "\n",
    "model.summary()"
   ]
  },
  {
   "cell_type": "code",
   "execution_count": null,
   "metadata": {
    "_uuid": "78b72de7c88f7845f92a0cc93eeea7a5498cdb72",
    "collapsed": true,
    "scrolled": true
   },
   "outputs": [],
   "source": [
    "epochs = 100\n",
    "\n",
    "use_multiprocessing = True # DO NOT COMBINE MULTIPROCESSING WITH CACHE! \n",
    "workers = 8 # DO NOT COMBINE MULTIPROCESSING WITH CACHE! \n",
    "'''init_g = tf.global_variables_initializer()\n",
    "init_l = tf.local_variables_initializer()\n",
    "with tf.Session() as sess:\n",
    "    sess.run(init_g)\n",
    "    sess.run(init_l)'''\n",
    "\n",
    "hist = model.fit_generator(\n",
    "    tg,\n",
    "    steps_per_epoch=len(tg),\n",
    "    validation_data=vg,\n",
    "    validation_steps=8,\n",
    "    epochs=epochs,\n",
    "    use_multiprocessing=use_multiprocessing,\n",
    "    workers=workers,\n",
    "    verbose=1,\n",
    "    callbacks=[checkpoint])"
   ]
  },
  {
   "cell_type": "code",
   "execution_count": 12,
   "metadata": {
    "collapsed": true
   },
   "outputs": [],
   "source": [
    "model.save('./best_one_spoon_aug_40_epochs.model')"
   ]
  },
  {
   "cell_type": "code",
   "execution_count": 13,
   "metadata": {
    "_uuid": "9237d3586a1bba31a3a5ef7f8e81a91827d94743"
   },
   "outputs": [
    {
     "data": {
      "text/plain": [
       "<matplotlib.legend.Legend at 0x7fde86fe9d68>"
      ]
     },
     "execution_count": 13,
     "metadata": {},
     "output_type": "execute_result"
    },
    {
     "data": {
      "image/png": "[encoded data removed]",
      "text/plain": [
       "<Figure size 1080x360 with 2 Axes>"
      ]
     },
     "metadata": {
      "needs_background": "light"
     },
     "output_type": "display_data"
    }
   ],
   "source": [
    "fig, ax = plt.subplots(1, 2, figsize=(15,5))\n",
    "ax[0].set_title('loss')\n",
    "ax[0].plot(hist.epoch, hist.history[\"loss\"], label=\"Train loss\")\n",
    "ax[0].plot(hist.epoch, hist.history[\"val_loss\"], label=\"Validation loss\")\n",
    "ax[1].set_title('acc')\n",
    "ax[1].plot(hist.epoch, hist.history[\"f1\"], label=\"Train F1\")\n",
    "ax[1].plot(hist.epoch, hist.history[\"val_f1\"], label=\"Validation F1\")\n",
    "ax[0].legend()\n",
    "ax[1].legend()"
   ]
  },
  {
   "cell_type": "markdown",
   "metadata": {
    "_uuid": "5550c5553751b01fdfbdc3f3f310a819886d60aa"
   },
   "source": [
    "# Full validation\n",
    "Perform validation on full validation dataset. Choose appropriate prediction threshold maximalizing the validation F1-score."
   ]
  },
  {
   "cell_type": "code",
   "execution_count": 36,
   "metadata": {
    "_uuid": "0a8a8fbd700822b1a5ede79d05989ba28c9df588",
    "collapsed": true
   },
   "outputs": [],
   "source": [
    "model = load_model('/Users/mohamed/Desktop/Deep Learning/best_one_spoon.model', custom_objects={'f1': f1}) #, 'f1_loss': f1_loss})"
   ]
  },
  {
   "cell_type": "code",
   "execution_count": 37,
   "metadata": {
    "scrolled": true
   },
   "outputs": [
    {
     "name": "stdout",
     "output_type": "stream",
     "text": [
      "__________________________________________________________________________________________________\n",
      "Layer (type)                    Output Shape         Param #     Connected to                     \n",
      "==================================================================================================\n",
      "input_1 (InputLayer)            (None, 128, 128, 4)  0                                            \n",
      "__________________________________________________________________________________________________\n",
      "conv1_1 (Conv2D)                (None, 128, 128, 32) 1184        input_1[0][0]                    \n",
      "__________________________________________________________________________________________________\n",
      "conv2d_1 (Conv2D)               (None, 128, 128, 32) 9248        conv1_1[0][0]                    \n",
      "__________________________________________________________________________________________________\n",
      "max_pooling2d_1 (MaxPooling2D)  (None, 64, 64, 32)   0           conv2d_1[0][0]                   \n",
      "__________________________________________________________________________________________________\n",
      "batch_normalization_1 (BatchNor (None, 64, 64, 32)   128         max_pooling2d_1[0][0]            \n",
      "__________________________________________________________________________________________________\n",
      "conv2d_2 (Conv2D)               (None, 64, 64, 64)   18496       batch_normalization_1[0][0]      \n",
      "__________________________________________________________________________________________________\n",
      "conv2d_3 (Conv2D)               (None, 64, 64, 64)   36928       conv2d_2[0][0]                   \n",
      "__________________________________________________________________________________________________\n",
      "max_pooling2d_2 (MaxPooling2D)  (None, 32, 32, 64)   0           conv2d_3[0][0]                   \n",
      "__________________________________________________________________________________________________\n",
      "batch_normalization_2 (BatchNor (None, 32, 32, 64)   256         max_pooling2d_2[0][0]            \n",
      "__________________________________________________________________________________________________\n",
      "conv2d_4 (Conv2D)               (None, 32, 32, 128)  73856       batch_normalization_2[0][0]      \n",
      "__________________________________________________________________________________________________\n",
      "conv2d_5 (Conv2D)               (None, 32, 32, 128)  147584      conv2d_4[0][0]                   \n",
      "__________________________________________________________________________________________________\n",
      "max_pooling2d_3 (MaxPooling2D)  (None, 16, 16, 128)  0           conv2d_5[0][0]                   \n",
      "__________________________________________________________________________________________________\n",
      "batch_normalization_3 (BatchNor (None, 16, 16, 128)  512         max_pooling2d_3[0][0]            \n",
      "__________________________________________________________________________________________________\n",
      "conv2d_6 (Conv2D)               (None, 16, 16, 256)  295168      batch_normalization_3[0][0]      \n",
      "__________________________________________________________________________________________________\n",
      "conv2d_7 (Conv2D)               (None, 16, 16, 256)  590080      conv2d_6[0][0]                   \n",
      "__________________________________________________________________________________________________\n",
      "max_pooling2d_4 (MaxPooling2D)  (None, 8, 8, 256)    0           conv2d_7[0][0]                   \n",
      "__________________________________________________________________________________________________\n",
      "batch_normalization_4 (BatchNor (None, 8, 8, 256)    1024        max_pooling2d_4[0][0]            \n",
      "__________________________________________________________________________________________________\n",
      "conv2d_8 (Conv2D)               (None, 8, 8, 512)    1180160     batch_normalization_4[0][0]      \n",
      "__________________________________________________________________________________________________\n",
      "conv2d_9 (Conv2D)               (None, 8, 8, 512)    2359808     conv2d_8[0][0]                   \n",
      "__________________________________________________________________________________________________\n",
      "up_sampling2d_1 (UpSampling2D)  (None, 16, 16, 512)  0           conv2d_9[0][0]                   \n",
      "__________________________________________________________________________________________________\n",
      "cropping2d_1 (Cropping2D)       (None, 16, 16, 256)  0           conv2d_7[0][0]                   \n",
      "__________________________________________________________________________________________________\n",
      "concatenate_1 (Concatenate)     (None, 16, 16, 768)  0           up_sampling2d_1[0][0]            \n",
      "                                                                 cropping2d_1[0][0]               \n",
      "__________________________________________________________________________________________________\n",
      "conv2d_10 (Conv2D)              (None, 16, 16, 256)  1769728     concatenate_1[0][0]              \n",
      "__________________________________________________________________________________________________\n",
      "conv2d_11 (Conv2D)              (None, 16, 16, 256)  590080      conv2d_10[0][0]                  \n",
      "__________________________________________________________________________________________________\n",
      "up_sampling2d_2 (UpSampling2D)  (None, 32, 32, 256)  0           conv2d_11[0][0]                  \n",
      "__________________________________________________________________________________________________\n",
      "cropping2d_2 (Cropping2D)       (None, 32, 32, 128)  0           conv2d_5[0][0]                   \n",
      "__________________________________________________________________________________________________\n",
      "concatenate_2 (Concatenate)     (None, 32, 32, 384)  0           up_sampling2d_2[0][0]            \n",
      "                                                                 cropping2d_2[0][0]               \n",
      "__________________________________________________________________________________________________\n",
      "conv2d_12 (Conv2D)              (None, 32, 32, 128)  442496      concatenate_2[0][0]              \n",
      "__________________________________________________________________________________________________\n",
      "conv2d_13 (Conv2D)              (None, 32, 32, 128)  147584      conv2d_12[0][0]                  \n",
      "__________________________________________________________________________________________________\n",
      "up_sampling2d_3 (UpSampling2D)  (None, 64, 64, 128)  0           conv2d_13[0][0]                  \n",
      "__________________________________________________________________________________________________\n",
      "cropping2d_3 (Cropping2D)       (None, 64, 64, 64)   0           conv2d_3[0][0]                   \n",
      "__________________________________________________________________________________________________\n",
      "concatenate_3 (Concatenate)     (None, 64, 64, 192)  0           up_sampling2d_3[0][0]            \n",
      "                                                                 cropping2d_3[0][0]               \n",
      "__________________________________________________________________________________________________\n",
      "conv2d_14 (Conv2D)              (None, 64, 64, 64)   110656      concatenate_3[0][0]              \n",
      "__________________________________________________________________________________________________\n",
      "conv2d_15 (Conv2D)              (None, 64, 64, 64)   36928       conv2d_14[0][0]                  \n",
      "__________________________________________________________________________________________________\n",
      "up_sampling2d_4 (UpSampling2D)  (None, 128, 128, 64) 0           conv2d_15[0][0]                  \n",
      "__________________________________________________________________________________________________\n",
      "cropping2d_4 (Cropping2D)       (None, 128, 128, 32) 0           conv2d_1[0][0]                   \n",
      "__________________________________________________________________________________________________\n",
      "concatenate_4 (Concatenate)     (None, 128, 128, 96) 0           up_sampling2d_4[0][0]            \n",
      "                                                                 cropping2d_4[0][0]               \n",
      "__________________________________________________________________________________________________\n",
      "conv2d_16 (Conv2D)              (None, 128, 128, 32) 27680       concatenate_4[0][0]              \n",
      "__________________________________________________________________________________________________\n",
      "conv2d_17 (Conv2D)              (None, 128, 128, 32) 9248        conv2d_16[0][0]                  \n",
      "__________________________________________________________________________________________________\n",
      "conv2d_18 (Conv2D)              (None, 63, 63, 32)   9248        conv2d_17[0][0]                  \n",
      "__________________________________________________________________________________________________\n",
      "max_pooling2d_5 (MaxPooling2D)  (None, 62, 62, 32)   0           conv2d_18[0][0]                  \n",
      "__________________________________________________________________________________________________\n",
      "batch_normalization_5 (BatchNor (None, 62, 62, 32)   128         max_pooling2d_5[0][0]            \n",
      "__________________________________________________________________________________________________\n",
      "conv2d_19 (Conv2D)              (None, 30, 30, 32)   9248        batch_normalization_5[0][0]      \n",
      "__________________________________________________________________________________________________\n",
      "max_pooling2d_6 (MaxPooling2D)  (None, 29, 29, 32)   0           conv2d_19[0][0]                  \n",
      "__________________________________________________________________________________________________\n",
      "batch_normalization_6 (BatchNor (None, 29, 29, 32)   128         max_pooling2d_6[0][0]            \n",
      "__________________________________________________________________________________________________\n",
      "conv2d_20 (Conv2D)              (None, 27, 27, 32)   9248        batch_normalization_6[0][0]      \n",
      "__________________________________________________________________________________________________\n",
      "max_pooling2d_7 (MaxPooling2D)  (None, 26, 26, 32)   0           conv2d_20[0][0]                  \n",
      "__________________________________________________________________________________________________\n",
      "batch_normalization_7 (BatchNor (None, 26, 26, 32)   128         max_pooling2d_7[0][0]            \n",
      "__________________________________________________________________________________________________\n",
      "conv2d_21 (Conv2D)              (None, 24, 24, 32)   9248        batch_normalization_7[0][0]      \n",
      "__________________________________________________________________________________________________\n",
      "max_pooling2d_8 (MaxPooling2D)  (None, 23, 23, 32)   0           conv2d_21[0][0]                  \n",
      "__________________________________________________________________________________________________\n",
      "batch_normalization_8 (BatchNor (None, 23, 23, 32)   128         max_pooling2d_8[0][0]            \n",
      "__________________________________________________________________________________________________\n",
      "conv2d_22 (Conv2D)              (None, 21, 21, 32)   9248        batch_normalization_8[0][0]      \n",
      "__________________________________________________________________________________________________\n",
      "max_pooling2d_9 (MaxPooling2D)  (None, 20, 20, 32)   0           conv2d_22[0][0]                  \n",
      "__________________________________________________________________________________________________\n",
      "batch_normalization_9 (BatchNor (None, 20, 20, 32)   128         max_pooling2d_9[0][0]            \n",
      "__________________________________________________________________________________________________\n",
      "conv2d_23 (Conv2D)              (None, 18, 18, 32)   9248        batch_normalization_9[0][0]      \n",
      "__________________________________________________________________________________________________\n",
      "max_pooling2d_10 (MaxPooling2D) (None, 17, 17, 32)   0           conv2d_23[0][0]                  \n",
      "__________________________________________________________________________________________________\n",
      "batch_normalization_10 (BatchNo (None, 17, 17, 32)   128         max_pooling2d_10[0][0]           \n",
      "__________________________________________________________________________________________________\n",
      "conv2d_24 (Conv2D)              (None, 15, 15, 32)   9248        batch_normalization_10[0][0]     \n",
      "__________________________________________________________________________________________________\n",
      "max_pooling2d_11 (MaxPooling2D) (None, 14, 14, 32)   0           conv2d_24[0][0]                  \n",
      "__________________________________________________________________________________________________\n",
      "batch_normalization_11 (BatchNo (None, 14, 14, 32)   128         max_pooling2d_11[0][0]           \n",
      "__________________________________________________________________________________________________\n",
      "conv2d_25 (Conv2D)              (None, 12, 12, 32)   9248        batch_normalization_11[0][0]     \n",
      "__________________________________________________________________________________________________\n",
      "max_pooling2d_12 (MaxPooling2D) (None, 11, 11, 32)   0           conv2d_25[0][0]                  \n",
      "__________________________________________________________________________________________________\n",
      "batch_normalization_12 (BatchNo (None, 11, 11, 32)   128         max_pooling2d_12[0][0]           \n",
      "__________________________________________________________________________________________________\n",
      "flatten_1 (Flatten)             (None, 3872)         0           batch_normalization_12[0][0]     \n",
      "__________________________________________________________________________________________________\n",
      "dropout_1 (Dropout)             (None, 3872)         0           flatten_1[0][0]                  \n",
      "__________________________________________________________________________________________________\n",
      "dense_1 (Dense)                 (None, 128)          495744      dropout_1[0][0]                  \n",
      "__________________________________________________________________________________________________\n",
      "dropout_2 (Dropout)             (None, 128)          0           dense_1[0][0]                    \n",
      "__________________________________________________________________________________________________\n",
      "dense_2 (Dense)                 (None, 256)          33024       dropout_2[0][0]                  \n",
      "__________________________________________________________________________________________________\n",
      "dense_3 (Dense)                 (None, 28)           7196        dense_2[0][0]                    \n",
      "==================================================================================================\n",
      "Total params: 8,459,804\n",
      "Trainable params: 8,458,332\n",
      "Non-trainable params: 1,472\n",
      "__________________________________________________________________________________________________\n"
     ]
    }
   ],
   "source": [
    "model.summary()"
   ]
  },
  {
   "cell_type": "markdown",
   "metadata": {},
   "source": [
    "# On the cell below chosse vg for optimizing on the validation set and tg for optimizing on the training set"
   ]
  },
  {
   "cell_type": "code",
   "execution_count": 38,
   "metadata": {
    "_uuid": "f76abc9bb2cae0d85fc281c7582b3d642d2f1ff8",
    "collapsed": true
   },
   "outputs": [],
   "source": [
    "fullValGen = tg"
   ]
  },
  {
   "cell_type": "code",
   "execution_count": 39,
   "metadata": {
    "_uuid": "7f03e6dcc106bad00e60cb6fefba20f84bf1f1be"
   },
   "outputs": [
    {
     "name": "stderr",
     "output_type": "stream",
     "text": [
      "  0%|          | 1/1748 [00:52<25:35:57, 52.75s/it]"
     ]
    },
    {
     "ename": "KeyboardInterrupt",
     "evalue": "",
     "output_type": "error",
     "traceback": [
      "\u001b[0;31m---------------------------------------------------------------------------\u001b[0m",
      "\u001b[0;31mKeyboardInterrupt\u001b[0m                         Traceback (most recent call last)",
      "\u001b[0;32m<ipython-input-39-03499e871255>\u001b[0m in \u001b[0;36m<module>\u001b[0;34m()\u001b[0m\n\u001b[1;32m      3\u001b[0m \u001b[0;32mfor\u001b[0m \u001b[0mi\u001b[0m \u001b[0;32min\u001b[0m \u001b[0mtqdm\u001b[0m\u001b[0;34m(\u001b[0m\u001b[0mrange\u001b[0m\u001b[0;34m(\u001b[0m\u001b[0mlen\u001b[0m\u001b[0;34m(\u001b[0m\u001b[0mfullValGen\u001b[0m\u001b[0;34m)\u001b[0m\u001b[0;34m)\u001b[0m\u001b[0;34m)\u001b[0m\u001b[0;34m:\u001b[0m\u001b[0;34m\u001b[0m\u001b[0m\n\u001b[1;32m      4\u001b[0m     \u001b[0mim\u001b[0m\u001b[0;34m,\u001b[0m \u001b[0mlbl\u001b[0m \u001b[0;34m=\u001b[0m \u001b[0mfullValGen\u001b[0m\u001b[0;34m[\u001b[0m\u001b[0mi\u001b[0m\u001b[0;34m]\u001b[0m\u001b[0;34m\u001b[0m\u001b[0m\n\u001b[0;32m----> 5\u001b[0;31m     \u001b[0mscores\u001b[0m \u001b[0;34m=\u001b[0m \u001b[0mmodel\u001b[0m\u001b[0;34m.\u001b[0m\u001b[0mpredict\u001b[0m\u001b[0;34m(\u001b[0m\u001b[0mim\u001b[0m\u001b[0;34m)\u001b[0m\u001b[0;34m\u001b[0m\u001b[0m\n\u001b[0m\u001b[1;32m      6\u001b[0m     \u001b[0mlastFullValPred\u001b[0m \u001b[0;34m=\u001b[0m \u001b[0mnp\u001b[0m\u001b[0;34m.\u001b[0m\u001b[0mappend\u001b[0m\u001b[0;34m(\u001b[0m\u001b[0mlastFullValPred\u001b[0m\u001b[0;34m,\u001b[0m \u001b[0mscores\u001b[0m\u001b[0;34m,\u001b[0m \u001b[0maxis\u001b[0m\u001b[0;34m=\u001b[0m\u001b[0;36m0\u001b[0m\u001b[0;34m)\u001b[0m\u001b[0;34m\u001b[0m\u001b[0m\n\u001b[1;32m      7\u001b[0m     \u001b[0mlastFullValLabels\u001b[0m \u001b[0;34m=\u001b[0m \u001b[0mnp\u001b[0m\u001b[0;34m.\u001b[0m\u001b[0mappend\u001b[0m\u001b[0;34m(\u001b[0m\u001b[0mlastFullValLabels\u001b[0m\u001b[0;34m,\u001b[0m \u001b[0mlbl\u001b[0m\u001b[0;34m,\u001b[0m \u001b[0maxis\u001b[0m\u001b[0;34m=\u001b[0m\u001b[0;36m0\u001b[0m\u001b[0;34m)\u001b[0m\u001b[0;34m\u001b[0m\u001b[0m\n",
      "\u001b[0;32m~/anaconda3/lib/python3.6/site-packages/keras/engine/training.py\u001b[0m in \u001b[0;36mpredict\u001b[0;34m(self, x, batch_size, verbose, steps)\u001b[0m\n\u001b[1;32m   1167\u001b[0m                                             \u001b[0mbatch_size\u001b[0m\u001b[0;34m=\u001b[0m\u001b[0mbatch_size\u001b[0m\u001b[0;34m,\u001b[0m\u001b[0;34m\u001b[0m\u001b[0m\n\u001b[1;32m   1168\u001b[0m                                             \u001b[0mverbose\u001b[0m\u001b[0;34m=\u001b[0m\u001b[0mverbose\u001b[0m\u001b[0;34m,\u001b[0m\u001b[0;34m\u001b[0m\u001b[0m\n\u001b[0;32m-> 1169\u001b[0;31m                                             steps=steps)\n\u001b[0m\u001b[1;32m   1170\u001b[0m \u001b[0;34m\u001b[0m\u001b[0m\n\u001b[1;32m   1171\u001b[0m     def train_on_batch(self, x, y,\n",
      "\u001b[0;32m~/anaconda3/lib/python3.6/site-packages/keras/engine/training_arrays.py\u001b[0m in \u001b[0;36mpredict_loop\u001b[0;34m(model, f, ins, batch_size, verbose, steps)\u001b[0m\n\u001b[1;32m    292\u001b[0m                 \u001b[0mins_batch\u001b[0m\u001b[0;34m[\u001b[0m\u001b[0mi\u001b[0m\u001b[0;34m]\u001b[0m \u001b[0;34m=\u001b[0m \u001b[0mins_batch\u001b[0m\u001b[0;34m[\u001b[0m\u001b[0mi\u001b[0m\u001b[0;34m]\u001b[0m\u001b[0;34m.\u001b[0m\u001b[0mtoarray\u001b[0m\u001b[0;34m(\u001b[0m\u001b[0;34m)\u001b[0m\u001b[0;34m\u001b[0m\u001b[0m\n\u001b[1;32m    293\u001b[0m \u001b[0;34m\u001b[0m\u001b[0m\n\u001b[0;32m--> 294\u001b[0;31m             \u001b[0mbatch_outs\u001b[0m \u001b[0;34m=\u001b[0m \u001b[0mf\u001b[0m\u001b[0;34m(\u001b[0m\u001b[0mins_batch\u001b[0m\u001b[0;34m)\u001b[0m\u001b[0;34m\u001b[0m\u001b[0m\n\u001b[0m\u001b[1;32m    295\u001b[0m             \u001b[0mbatch_outs\u001b[0m \u001b[0;34m=\u001b[0m \u001b[0mto_list\u001b[0m\u001b[0;34m(\u001b[0m\u001b[0mbatch_outs\u001b[0m\u001b[0;34m)\u001b[0m\u001b[0;34m\u001b[0m\u001b[0m\n\u001b[1;32m    296\u001b[0m             \u001b[0;32mif\u001b[0m \u001b[0mbatch_index\u001b[0m \u001b[0;34m==\u001b[0m \u001b[0;36m0\u001b[0m\u001b[0;34m:\u001b[0m\u001b[0;34m\u001b[0m\u001b[0m\n",
      "\u001b[0;32m~/anaconda3/lib/python3.6/site-packages/keras/backend/tensorflow_backend.py\u001b[0m in \u001b[0;36m__call__\u001b[0;34m(self, inputs)\u001b[0m\n\u001b[1;32m   2713\u001b[0m                 \u001b[0;32mreturn\u001b[0m \u001b[0mself\u001b[0m\u001b[0;34m.\u001b[0m\u001b[0m_legacy_call\u001b[0m\u001b[0;34m(\u001b[0m\u001b[0minputs\u001b[0m\u001b[0;34m)\u001b[0m\u001b[0;34m\u001b[0m\u001b[0m\n\u001b[1;32m   2714\u001b[0m \u001b[0;34m\u001b[0m\u001b[0m\n\u001b[0;32m-> 2715\u001b[0;31m             \u001b[0;32mreturn\u001b[0m \u001b[0mself\u001b[0m\u001b[0;34m.\u001b[0m\u001b[0m_call\u001b[0m\u001b[0;34m(\u001b[0m\u001b[0minputs\u001b[0m\u001b[0;34m)\u001b[0m\u001b[0;34m\u001b[0m\u001b[0m\n\u001b[0m\u001b[1;32m   2716\u001b[0m         \u001b[0;32melse\u001b[0m\u001b[0;34m:\u001b[0m\u001b[0;34m\u001b[0m\u001b[0m\n\u001b[1;32m   2717\u001b[0m             \u001b[0;32mif\u001b[0m \u001b[0mpy_any\u001b[0m\u001b[0;34m(\u001b[0m\u001b[0mis_tensor\u001b[0m\u001b[0;34m(\u001b[0m\u001b[0mx\u001b[0m\u001b[0;34m)\u001b[0m \u001b[0;32mfor\u001b[0m \u001b[0mx\u001b[0m \u001b[0;32min\u001b[0m \u001b[0minputs\u001b[0m\u001b[0;34m)\u001b[0m\u001b[0;34m:\u001b[0m\u001b[0;34m\u001b[0m\u001b[0m\n",
      "\u001b[0;32m~/anaconda3/lib/python3.6/site-packages/keras/backend/tensorflow_backend.py\u001b[0m in \u001b[0;36m_call\u001b[0;34m(self, inputs)\u001b[0m\n\u001b[1;32m   2673\u001b[0m             \u001b[0mfetched\u001b[0m \u001b[0;34m=\u001b[0m \u001b[0mself\u001b[0m\u001b[0;34m.\u001b[0m\u001b[0m_callable_fn\u001b[0m\u001b[0;34m(\u001b[0m\u001b[0;34m*\u001b[0m\u001b[0marray_vals\u001b[0m\u001b[0;34m,\u001b[0m \u001b[0mrun_metadata\u001b[0m\u001b[0;34m=\u001b[0m\u001b[0mself\u001b[0m\u001b[0;34m.\u001b[0m\u001b[0mrun_metadata\u001b[0m\u001b[0;34m)\u001b[0m\u001b[0;34m\u001b[0m\u001b[0m\n\u001b[1;32m   2674\u001b[0m         \u001b[0;32melse\u001b[0m\u001b[0;34m:\u001b[0m\u001b[0;34m\u001b[0m\u001b[0m\n\u001b[0;32m-> 2675\u001b[0;31m             \u001b[0mfetched\u001b[0m \u001b[0;34m=\u001b[0m \u001b[0mself\u001b[0m\u001b[0;34m.\u001b[0m\u001b[0m_callable_fn\u001b[0m\u001b[0;34m(\u001b[0m\u001b[0;34m*\u001b[0m\u001b[0marray_vals\u001b[0m\u001b[0;34m)\u001b[0m\u001b[0;34m\u001b[0m\u001b[0m\n\u001b[0m\u001b[1;32m   2676\u001b[0m         \u001b[0;32mreturn\u001b[0m \u001b[0mfetched\u001b[0m\u001b[0;34m[\u001b[0m\u001b[0;34m:\u001b[0m\u001b[0mlen\u001b[0m\u001b[0;34m(\u001b[0m\u001b[0mself\u001b[0m\u001b[0;34m.\u001b[0m\u001b[0moutputs\u001b[0m\u001b[0;34m)\u001b[0m\u001b[0;34m]\u001b[0m\u001b[0;34m\u001b[0m\u001b[0m\n\u001b[1;32m   2677\u001b[0m \u001b[0;34m\u001b[0m\u001b[0m\n",
      "\u001b[0;32m~/anaconda3/lib/python3.6/site-packages/tensorflow/python/client/session.py\u001b[0m in \u001b[0;36m__call__\u001b[0;34m(self, *args, **kwargs)\u001b[0m\n\u001b[1;32m   1380\u001b[0m           ret = tf_session.TF_SessionRunCallable(\n\u001b[1;32m   1381\u001b[0m               \u001b[0mself\u001b[0m\u001b[0;34m.\u001b[0m\u001b[0m_session\u001b[0m\u001b[0;34m.\u001b[0m\u001b[0m_session\u001b[0m\u001b[0;34m,\u001b[0m \u001b[0mself\u001b[0m\u001b[0;34m.\u001b[0m\u001b[0m_handle\u001b[0m\u001b[0;34m,\u001b[0m \u001b[0margs\u001b[0m\u001b[0;34m,\u001b[0m \u001b[0mstatus\u001b[0m\u001b[0;34m,\u001b[0m\u001b[0;34m\u001b[0m\u001b[0m\n\u001b[0;32m-> 1382\u001b[0;31m               run_metadata_ptr)\n\u001b[0m\u001b[1;32m   1383\u001b[0m         \u001b[0;32mif\u001b[0m \u001b[0mrun_metadata\u001b[0m\u001b[0;34m:\u001b[0m\u001b[0;34m\u001b[0m\u001b[0m\n\u001b[1;32m   1384\u001b[0m           \u001b[0mproto_data\u001b[0m \u001b[0;34m=\u001b[0m \u001b[0mtf_session\u001b[0m\u001b[0;34m.\u001b[0m\u001b[0mTF_GetBuffer\u001b[0m\u001b[0;34m(\u001b[0m\u001b[0mrun_metadata_ptr\u001b[0m\u001b[0;34m)\u001b[0m\u001b[0;34m\u001b[0m\u001b[0m\n",
      "\u001b[0;31mKeyboardInterrupt\u001b[0m: "
     ]
    }
   ],
   "source": [
    "lastFullValPred = np.empty((0, 28))\n",
    "lastFullValLabels = np.empty((0, 28))\n",
    "for i in tqdm(range(len(fullValGen))): \n",
    "    im, lbl = fullValGen[i]\n",
    "    scores = model.predict(im)\n",
    "    lastFullValPred = np.append(lastFullValPred, scores, axis=0)\n",
    "    lastFullValLabels = np.append(lastFullValLabels, lbl, axis=0)\n",
    "print(lastFullValPred.shape, lastFullValLabels.shape)"
   ]
  },
  {
   "cell_type": "code",
   "execution_count": 14,
   "metadata": {
    "_uuid": "8160f53f010b7a5eed1e50f2f24be4f6906b1389"
   },
   "outputs": [
    {
     "name": "stderr",
     "output_type": "stream",
     "text": [
      " 10%|▉         | 99/1000 [01:08<10:03,  1.49it/s]/home/ef2603jca2158/anaconda3/lib/python3.6/site-packages/sklearn/metrics/classification.py:1143: UndefinedMetricWarning: F-score is ill-defined and being set to 0.0 due to no predicted samples.\n",
      "  'precision', 'predicted', average, warn_for)\n",
      "100%|██████████| 1000/1000 [11:08<00:00,  1.50it/s]\n"
     ]
    }
   ],
   "source": [
    "from sklearn.metrics import f1_score as off1\n",
    "rng = np.arange(0, 1, 0.001)\n",
    "f1s = np.zeros((rng.shape[0], 28))\n",
    "for j,t in enumerate(tqdm(rng)):\n",
    "    for i in range(28):\n",
    "        p = np.array(lastFullValPred[:,i]>t, dtype=np.int8)\n",
    "        scoref1 = off1(lastFullValLabels[:,i], p, average='binary')\n",
    "        f1s[j,i] = scoref1"
   ]
  },
  {
   "cell_type": "code",
   "execution_count": 15,
   "metadata": {},
   "outputs": [
    {
     "name": "stderr",
     "output_type": "stream",
     "text": [
      " 10%|▉         | 99/1000 [00:20<02:58,  5.05it/s]/home/ef2603jca2158/anaconda3/lib/python3.6/site-packages/sklearn/metrics/classification.py:1143: UndefinedMetricWarning: Precision and F-score are ill-defined and being set to 0.0 in labels with no predicted samples.\n",
      "  'precision', 'predicted', average, warn_for)\n",
      "100%|██████████| 1000/1000 [03:10<00:00,  5.54it/s]\n"
     ]
    }
   ],
   "source": [
    "from sklearn.metrics import f1_score as off1\n",
    "from sklearn.metrics import precision_recall_fscore_support\n",
    "rng = np.arange(0, 1, 0.001)\n",
    "f1s = np.zeros((rng.shape[0], 28))\n",
    "data = []\n",
    "for j,t in enumerate(tqdm(rng)):\n",
    "    score = precision_recall_fscore_support(lastFullValLabels, (lastFullValPred > t), average=None)\n",
    "    data.append(pd.DataFrame(np.array([score[0], score[1], score[2]]).T, columns = ['Precision', 'Recall', 'F1']))"
   ]
  },
  {
   "cell_type": "code",
   "execution_count": 16,
   "metadata": {
    "collapsed": true
   },
   "outputs": [],
   "source": [
    "index = []\n",
    "for label in (np.arange(28)):\n",
    "    best = 0\n",
    "    for idx in range(len(data)):\n",
    "        df = data[idx]\n",
    "        if df['F1'][label]>best:\n",
    "            best = df['F1'][label]\n",
    "            idx2 = idx\n",
    "    index.append(idx2)\n",
    "\n",
    "Results = data[990]\n",
    "# for label in (np.arange(28)):\n",
    "#     finaldf.iloc[label]\n",
    "\n",
    "for label in (np.arange(28)):\n",
    "    Results.iloc[label] =data[index[label]].iloc[label]"
   ]
  },
  {
   "cell_type": "code",
   "execution_count": 17,
   "metadata": {},
   "outputs": [
    {
     "data": {
      "text/html": [
       "<div>\n",
       "<style scoped>\n",
       "    .dataframe tbody tr th:only-of-type {\n",
       "        vertical-align: middle;\n",
       "    }\n",
       "\n",
       "    .dataframe tbody tr th {\n",
       "        vertical-align: top;\n",
       "    }\n",
       "\n",
       "    .dataframe thead th {\n",
       "        text-align: right;\n",
       "    }\n",
       "</style>\n",
       "<table border=\"1\" class=\"dataframe\">\n",
       "  <thead>\n",
       "    <tr style=\"text-align: right;\">\n",
       "      <th></th>\n",
       "      <th>Precision</th>\n",
       "      <th>Recall</th>\n",
       "      <th>F1</th>\n",
       "    </tr>\n",
       "  </thead>\n",
       "  <tbody>\n",
       "    <tr>\n",
       "      <th>0</th>\n",
       "      <td>0.749213</td>\n",
       "      <td>0.820022</td>\n",
       "      <td>0.783020</td>\n",
       "    </tr>\n",
       "    <tr>\n",
       "      <th>1</th>\n",
       "      <td>0.733663</td>\n",
       "      <td>0.462790</td>\n",
       "      <td>0.567564</td>\n",
       "    </tr>\n",
       "    <tr>\n",
       "      <th>2</th>\n",
       "      <td>0.435485</td>\n",
       "      <td>0.819470</td>\n",
       "      <td>0.568733</td>\n",
       "    </tr>\n",
       "    <tr>\n",
       "      <th>3</th>\n",
       "      <td>0.129323</td>\n",
       "      <td>0.154594</td>\n",
       "      <td>0.140834</td>\n",
       "    </tr>\n",
       "    <tr>\n",
       "      <th>4</th>\n",
       "      <td>0.130767</td>\n",
       "      <td>0.510498</td>\n",
       "      <td>0.208202</td>\n",
       "    </tr>\n",
       "    <tr>\n",
       "      <th>5</th>\n",
       "      <td>0.259732</td>\n",
       "      <td>0.492529</td>\n",
       "      <td>0.340109</td>\n",
       "    </tr>\n",
       "    <tr>\n",
       "      <th>6</th>\n",
       "      <td>0.810189</td>\n",
       "      <td>0.532397</td>\n",
       "      <td>0.642555</td>\n",
       "    </tr>\n",
       "    <tr>\n",
       "      <th>7</th>\n",
       "      <td>0.772383</td>\n",
       "      <td>0.604520</td>\n",
       "      <td>0.678219</td>\n",
       "    </tr>\n",
       "    <tr>\n",
       "      <th>8</th>\n",
       "      <td>0.338028</td>\n",
       "      <td>0.136364</td>\n",
       "      <td>0.194332</td>\n",
       "    </tr>\n",
       "    <tr>\n",
       "      <th>9</th>\n",
       "      <td>0.600000</td>\n",
       "      <td>0.392857</td>\n",
       "      <td>0.474820</td>\n",
       "    </tr>\n",
       "    <tr>\n",
       "      <th>10</th>\n",
       "      <td>0.423529</td>\n",
       "      <td>0.346154</td>\n",
       "      <td>0.380952</td>\n",
       "    </tr>\n",
       "    <tr>\n",
       "      <th>11</th>\n",
       "      <td>0.686371</td>\n",
       "      <td>0.322863</td>\n",
       "      <td>0.439153</td>\n",
       "    </tr>\n",
       "    <tr>\n",
       "      <th>12</th>\n",
       "      <td>0.696065</td>\n",
       "      <td>0.419118</td>\n",
       "      <td>0.523202</td>\n",
       "    </tr>\n",
       "    <tr>\n",
       "      <th>13</th>\n",
       "      <td>0.670760</td>\n",
       "      <td>0.441414</td>\n",
       "      <td>0.532440</td>\n",
       "    </tr>\n",
       "    <tr>\n",
       "      <th>14</th>\n",
       "      <td>0.866351</td>\n",
       "      <td>0.716301</td>\n",
       "      <td>0.784213</td>\n",
       "    </tr>\n",
       "    <tr>\n",
       "      <th>15</th>\n",
       "      <td>0.126214</td>\n",
       "      <td>0.171053</td>\n",
       "      <td>0.145251</td>\n",
       "    </tr>\n",
       "    <tr>\n",
       "      <th>16</th>\n",
       "      <td>0.147498</td>\n",
       "      <td>0.234705</td>\n",
       "      <td>0.181152</td>\n",
       "    </tr>\n",
       "    <tr>\n",
       "      <th>17</th>\n",
       "      <td>0.322300</td>\n",
       "      <td>0.238402</td>\n",
       "      <td>0.274074</td>\n",
       "    </tr>\n",
       "    <tr>\n",
       "      <th>18</th>\n",
       "      <td>0.458743</td>\n",
       "      <td>0.287562</td>\n",
       "      <td>0.353520</td>\n",
       "    </tr>\n",
       "    <tr>\n",
       "      <th>19</th>\n",
       "      <td>0.648825</td>\n",
       "      <td>0.188973</td>\n",
       "      <td>0.292697</td>\n",
       "    </tr>\n",
       "    <tr>\n",
       "      <th>20</th>\n",
       "      <td>0.260536</td>\n",
       "      <td>0.207317</td>\n",
       "      <td>0.230900</td>\n",
       "    </tr>\n",
       "    <tr>\n",
       "      <th>21</th>\n",
       "      <td>0.866179</td>\n",
       "      <td>0.536341</td>\n",
       "      <td>0.662475</td>\n",
       "    </tr>\n",
       "    <tr>\n",
       "      <th>22</th>\n",
       "      <td>0.698393</td>\n",
       "      <td>0.395658</td>\n",
       "      <td>0.505141</td>\n",
       "    </tr>\n",
       "    <tr>\n",
       "      <th>23</th>\n",
       "      <td>0.867474</td>\n",
       "      <td>0.685015</td>\n",
       "      <td>0.765523</td>\n",
       "    </tr>\n",
       "    <tr>\n",
       "      <th>24</th>\n",
       "      <td>0.444976</td>\n",
       "      <td>0.237245</td>\n",
       "      <td>0.309484</td>\n",
       "    </tr>\n",
       "    <tr>\n",
       "      <th>25</th>\n",
       "      <td>0.555065</td>\n",
       "      <td>0.829103</td>\n",
       "      <td>0.664957</td>\n",
       "    </tr>\n",
       "    <tr>\n",
       "      <th>26</th>\n",
       "      <td>0.348485</td>\n",
       "      <td>0.059483</td>\n",
       "      <td>0.101620</td>\n",
       "    </tr>\n",
       "    <tr>\n",
       "      <th>27</th>\n",
       "      <td>0.015873</td>\n",
       "      <td>0.045455</td>\n",
       "      <td>0.023529</td>\n",
       "    </tr>\n",
       "  </tbody>\n",
       "</table>\n",
       "</div>"
      ],
      "text/plain": [
       "    Precision    Recall        F1\n",
       "0    0.749213  0.820022  0.783020\n",
       "1    0.733663  0.462790  0.567564\n",
       "2    0.435485  0.819470  0.568733\n",
       "3    0.129323  0.154594  0.140834\n",
       "4    0.130767  0.510498  0.208202\n",
       "5    0.259732  0.492529  0.340109\n",
       "6    0.810189  0.532397  0.642555\n",
       "7    0.772383  0.604520  0.678219\n",
       "8    0.338028  0.136364  0.194332\n",
       "9    0.600000  0.392857  0.474820\n",
       "10   0.423529  0.346154  0.380952\n",
       "11   0.686371  0.322863  0.439153\n",
       "12   0.696065  0.419118  0.523202\n",
       "13   0.670760  0.441414  0.532440\n",
       "14   0.866351  0.716301  0.784213\n",
       "15   0.126214  0.171053  0.145251\n",
       "16   0.147498  0.234705  0.181152\n",
       "17   0.322300  0.238402  0.274074\n",
       "18   0.458743  0.287562  0.353520\n",
       "19   0.648825  0.188973  0.292697\n",
       "20   0.260536  0.207317  0.230900\n",
       "21   0.866179  0.536341  0.662475\n",
       "22   0.698393  0.395658  0.505141\n",
       "23   0.867474  0.685015  0.765523\n",
       "24   0.444976  0.237245  0.309484\n",
       "25   0.555065  0.829103  0.664957\n",
       "26   0.348485  0.059483  0.101620\n",
       "27   0.015873  0.045455  0.023529"
      ]
     },
     "execution_count": 17,
     "metadata": {},
     "output_type": "execute_result"
    }
   ],
   "source": [
    "Results"
   ]
  },
  {
   "cell_type": "code",
   "execution_count": 18,
   "metadata": {
    "collapsed": true
   },
   "outputs": [],
   "source": [
    "lb = []\n",
    "rng = np.arange(0, 1, 0.001)\n",
    "for idx in index:\n",
    "    lb.append(rng[idx])"
   ]
  },
  {
   "cell_type": "markdown",
   "metadata": {},
   "source": [
    "# Results optimized"
   ]
  },
  {
   "cell_type": "code",
   "execution_count": 19,
   "metadata": {},
   "outputs": [
    {
     "data": {
      "text/plain": [
       "array([0.50222926, 0.40315005, 0.42030969])"
      ]
     },
     "execution_count": 19,
     "metadata": {},
     "output_type": "execute_result"
    }
   ],
   "source": [
    "np.mean(precision_recall_fscore_support(lastFullValLabels, (lastFullValPred > lb))[:3],axis=1)"
   ]
  },
  {
   "cell_type": "markdown",
   "metadata": {},
   "source": [
    "# Threshold"
   ]
  },
  {
   "cell_type": "code",
   "execution_count": 20,
   "metadata": {
    "_uuid": "e48cd50cd31aac49f021d1266d5090228c054cda"
   },
   "outputs": [
    {
     "name": "stdout",
     "output_type": "stream",
     "text": [
      "Probability threshold maximizing CV F1-score for each class:\n",
      "[0.922, 0.324, 0.999, 0.073, 0.001, 0.016, 0.983, 0.99, 0.036000000000000004, 0.176, 0.09, 0.972, 0.046, 0.079, 0.679, 0.542, 0.252, 0.121, 0.051000000000000004, 0.058, 0.023, 0.097, 0.12, 0.666, 0.314, 0.023, 0.013000000000000001, 0.01]\n"
     ]
    }
   ],
   "source": [
    "print('Probability threshold maximizing CV F1-score for each class:')\n",
    "print(lb)"
   ]
  },
  {
   "cell_type": "markdown",
   "metadata": {},
   "source": [
    "# Create a submission"
   ]
  },
  {
   "cell_type": "code",
   "execution_count": 21,
   "metadata": {
    "_uuid": "982c438bc6d8fa9208ba6050312abc9200f84799"
   },
   "outputs": [
    {
     "name": "stderr",
     "output_type": "stream",
     "text": [
      "100%|██████████| 183/183 [02:04<00:00,  1.37it/s]\n"
     ]
    }
   ],
   "source": [
    "pathsTest, labelsTest = getTestDataset()\n",
    "\n",
    "testg = ProteinDataGenerator(pathsTest, labelsTest, BATCH_SIZE, SHAPE)\n",
    "submit = pd.read_csv('sample_submission.csv')\n",
    "P = np.zeros((pathsTest.shape[0], 28))\n",
    "for i in tqdm(range(len(testg))):\n",
    "    images, labels = testg[i]\n",
    "    score = model.predict(images)\n",
    "    P[i*BATCH_SIZE:i*BATCH_SIZE+score.shape[0]] = score"
   ]
  },
  {
   "cell_type": "code",
   "execution_count": 22,
   "metadata": {
    "_uuid": "f52ecf0f38c5b61e97c31698d2f0db69a6a48184",
    "collapsed": true
   },
   "outputs": [],
   "source": [
    "PP = np.array(P)"
   ]
  },
  {
   "cell_type": "code",
   "execution_count": 23,
   "metadata": {
    "_uuid": "668fd597b69767521b17a4a23320d3455d70bc73"
   },
   "outputs": [
    {
     "name": "stderr",
     "output_type": "stream",
     "text": [
      "100%|██████████| 11702/11702 [00:00<00:00, 41054.52it/s]\n"
     ]
    }
   ],
   "source": [
    "prediction = []\n",
    "\n",
    "for row in tqdm(range(submit.shape[0])):\n",
    "    \n",
    "    str_label = ''\n",
    "    l_bis = np.array(lb)\n",
    "    while str_label=='':\n",
    "        for col in range(PP.shape[1]):\n",
    "            if(PP[row, col] < l_bis[col]):\n",
    "                str_label += ''\n",
    "            else:\n",
    "                str_label += str(col) + ' '\n",
    "        l_bis=0.99*l_bis\n",
    "    prediction.append(str_label.strip())\n",
    "    \n",
    "submit['Predicted'] = np.array(prediction)\n",
    "submit.to_csv('best_pred_submission_aug.csv', index=False)"
   ]
  },
  {
   "cell_type": "code",
   "execution_count": 24,
   "metadata": {},
   "outputs": [
    {
     "data": {
      "text/html": [
       "<div>\n",
       "<style scoped>\n",
       "    .dataframe tbody tr th:only-of-type {\n",
       "        vertical-align: middle;\n",
       "    }\n",
       "\n",
       "    .dataframe tbody tr th {\n",
       "        vertical-align: top;\n",
       "    }\n",
       "\n",
       "    .dataframe thead th {\n",
       "        text-align: right;\n",
       "    }\n",
       "</style>\n",
       "<table border=\"1\" class=\"dataframe\">\n",
       "  <thead>\n",
       "    <tr style=\"text-align: right;\">\n",
       "      <th></th>\n",
       "      <th>Id</th>\n",
       "      <th>Predicted</th>\n",
       "    </tr>\n",
       "  </thead>\n",
       "  <tbody>\n",
       "    <tr>\n",
       "      <th>0</th>\n",
       "      <td>00008af0-bad0-11e8-b2b8-ac1f6b6435d0</td>\n",
       "      <td>0 2</td>\n",
       "    </tr>\n",
       "    <tr>\n",
       "      <th>1</th>\n",
       "      <td>0000a892-bacf-11e8-b2b8-ac1f6b6435d0</td>\n",
       "      <td>0 2</td>\n",
       "    </tr>\n",
       "    <tr>\n",
       "      <th>2</th>\n",
       "      <td>0006faa6-bac7-11e8-b2b7-ac1f6b6435d0</td>\n",
       "      <td>0 25</td>\n",
       "    </tr>\n",
       "    <tr>\n",
       "      <th>3</th>\n",
       "      <td>0008baca-bad7-11e8-b2b9-ac1f6b6435d0</td>\n",
       "      <td>0 16</td>\n",
       "    </tr>\n",
       "    <tr>\n",
       "      <th>4</th>\n",
       "      <td>000cce7e-bad4-11e8-b2b8-ac1f6b6435d0</td>\n",
       "      <td>0</td>\n",
       "    </tr>\n",
       "  </tbody>\n",
       "</table>\n",
       "</div>"
      ],
      "text/plain": [
       "                                     Id Predicted\n",
       "0  00008af0-bad0-11e8-b2b8-ac1f6b6435d0       0 2\n",
       "1  0000a892-bacf-11e8-b2b8-ac1f6b6435d0       0 2\n",
       "2  0006faa6-bac7-11e8-b2b7-ac1f6b6435d0      0 25\n",
       "3  0008baca-bad7-11e8-b2b9-ac1f6b6435d0      0 16\n",
       "4  000cce7e-bad4-11e8-b2b8-ac1f6b6435d0         0"
      ]
     },
     "execution_count": 24,
     "metadata": {},
     "output_type": "execute_result"
    }
   ],
   "source": [
    "submit.head()"
   ]
  },
  {
   "cell_type": "markdown",
   "metadata": {},
   "source": [
    "# Visualization fo the resuluts"
   ]
  },
  {
   "cell_type": "code",
   "execution_count": 25,
   "metadata": {
    "_uuid": "fe7fe7be3814319d6ccace15f05e4477e239c71f",
    "collapsed": true
   },
   "outputs": [],
   "source": [
    "label_names = {\n",
    "    0:  \"Nucleoplasm\",  \n",
    "    1:  \"Nuclear membrane\",   \n",
    "    2:  \"Nucleoli\",   \n",
    "    3:  \"Nucleoli fibrillar center\",   \n",
    "    4:  \"Nuclear speckles\",\n",
    "    5:  \"Nuclear bodies\",   \n",
    "    6:  \"Endoplasmic reticulum\",   \n",
    "    7:  \"Golgi apparatus\",   \n",
    "    8:  \"Peroxisomes\",   \n",
    "    9:  \"Endosomes\",   \n",
    "    10:  \"Lysosomes\",   \n",
    "    11:  \"Intermediate filaments\",   \n",
    "    12:  \"Actin filaments\",   \n",
    "    13:  \"Focal adhesion sites\",   \n",
    "    14:  \"Microtubules\",   \n",
    "    15:  \"Microtubule ends\",   \n",
    "    16:  \"Cytokinetic bridge\",   \n",
    "    17:  \"Mitotic spindle\",   \n",
    "    18:  \"Microtubule organizing center\",   \n",
    "    19:  \"Centrosome\",   \n",
    "    20:  \"Lipid droplets\",   \n",
    "    21:  \"Plasma membrane\",   \n",
    "    22:  \"Cell junctions\",   \n",
    "    23:  \"Mitochondria\",   \n",
    "    24:  \"Aggresome\",   \n",
    "    25:  \"Cytosol\",   \n",
    "    26:  \"Cytoplasmic bodies\",   \n",
    "    27:  \"Rods & rings\"\n",
    "}\n",
    "reverse_train_labels = dict((v,k) for k,v in label_names.items())\n",
    "\n",
    "def fill_targets(row):\n",
    "    row.Target = np.array(row.Target.split(\" \")).astype(np.int)\n",
    "    for num in row.Target:\n",
    "        name = label_names[int(num)]\n",
    "        row.loc[name] = 1\n",
    "    return row\n",
    "train_path = 'train/'\n",
    "train_labels = pd.read_csv('./train.csv')\n",
    "labels_path = './train.csv'\n",
    "labels = train_labels\n",
    "train_labels = train_labels.apply(fill_targets, axis=1)\n",
    "train_labels[\"number_of_targets\"] = train_labels.drop([\"Id\", \"Target\"],axis=1).sum(axis=1)"
   ]
  },
  {
   "cell_type": "code",
   "execution_count": 26,
   "metadata": {
    "collapsed": true
   },
   "outputs": [],
   "source": [
    "proba_predictions_baseline = lastFullValPred"
   ]
  },
  {
   "cell_type": "code",
   "execution_count": 27,
   "metadata": {},
   "outputs": [
    {
     "data": {
      "text/html": [
       "<div>\n",
       "<style scoped>\n",
       "    .dataframe tbody tr th:only-of-type {\n",
       "        vertical-align: middle;\n",
       "    }\n",
       "\n",
       "    .dataframe tbody tr th {\n",
       "        vertical-align: top;\n",
       "    }\n",
       "\n",
       "    .dataframe thead th {\n",
       "        text-align: right;\n",
       "    }\n",
       "</style>\n",
       "<table border=\"1\" class=\"dataframe\">\n",
       "  <thead>\n",
       "    <tr style=\"text-align: right;\">\n",
       "      <th></th>\n",
       "      <th>Actin filaments</th>\n",
       "      <th>Aggresome</th>\n",
       "      <th>Cell junctions</th>\n",
       "      <th>Centrosome</th>\n",
       "      <th>Cytokinetic bridge</th>\n",
       "      <th>Cytoplasmic bodies</th>\n",
       "      <th>Cytosol</th>\n",
       "      <th>Endoplasmic reticulum</th>\n",
       "      <th>Endosomes</th>\n",
       "      <th>Focal adhesion sites</th>\n",
       "      <th>...</th>\n",
       "      <th>Mitotic spindle</th>\n",
       "      <th>Nuclear bodies</th>\n",
       "      <th>Nuclear membrane</th>\n",
       "      <th>Nuclear speckles</th>\n",
       "      <th>Nucleoli</th>\n",
       "      <th>Nucleoli fibrillar center</th>\n",
       "      <th>Nucleoplasm</th>\n",
       "      <th>Peroxisomes</th>\n",
       "      <th>Plasma membrane</th>\n",
       "      <th>Rods &amp; rings</th>\n",
       "    </tr>\n",
       "  </thead>\n",
       "  <tbody>\n",
       "    <tr>\n",
       "      <th>0</th>\n",
       "      <td>0.999700</td>\n",
       "      <td>0.001855</td>\n",
       "      <td>0.970606</td>\n",
       "      <td>0.047800</td>\n",
       "      <td>5.074902e-06</td>\n",
       "      <td>2.518818e-04</td>\n",
       "      <td>4.365859e-04</td>\n",
       "      <td>0.533183</td>\n",
       "      <td>6.151713e-04</td>\n",
       "      <td>3.350273e-06</td>\n",
       "      <td>...</td>\n",
       "      <td>1.114176e-04</td>\n",
       "      <td>3.250252e-03</td>\n",
       "      <td>3.099554e-03</td>\n",
       "      <td>4.476738e-06</td>\n",
       "      <td>3.293580e-04</td>\n",
       "      <td>0.000198</td>\n",
       "      <td>3.274348e-02</td>\n",
       "      <td>2.982811e-05</td>\n",
       "      <td>1.216210e-06</td>\n",
       "      <td>2.837635e-04</td>\n",
       "    </tr>\n",
       "    <tr>\n",
       "      <th>1</th>\n",
       "      <td>0.999986</td>\n",
       "      <td>0.000843</td>\n",
       "      <td>1.000000</td>\n",
       "      <td>0.000005</td>\n",
       "      <td>6.921140e-10</td>\n",
       "      <td>1.652448e-08</td>\n",
       "      <td>2.862340e-07</td>\n",
       "      <td>0.578030</td>\n",
       "      <td>6.491750e-09</td>\n",
       "      <td>2.443157e-16</td>\n",
       "      <td>...</td>\n",
       "      <td>5.359015e-10</td>\n",
       "      <td>3.801069e-07</td>\n",
       "      <td>4.650650e-10</td>\n",
       "      <td>1.166408e-11</td>\n",
       "      <td>3.474331e-10</td>\n",
       "      <td>0.000022</td>\n",
       "      <td>4.537802e-09</td>\n",
       "      <td>3.234564e-09</td>\n",
       "      <td>4.897824e-15</td>\n",
       "      <td>2.433987e-10</td>\n",
       "    </tr>\n",
       "    <tr>\n",
       "      <th>2</th>\n",
       "      <td>0.029993</td>\n",
       "      <td>0.026775</td>\n",
       "      <td>0.929866</td>\n",
       "      <td>0.004068</td>\n",
       "      <td>1.346929e-04</td>\n",
       "      <td>4.544507e-01</td>\n",
       "      <td>2.768854e-03</td>\n",
       "      <td>0.526594</td>\n",
       "      <td>2.579114e-06</td>\n",
       "      <td>3.940754e-07</td>\n",
       "      <td>...</td>\n",
       "      <td>1.539109e-02</td>\n",
       "      <td>4.972427e-03</td>\n",
       "      <td>7.612254e-06</td>\n",
       "      <td>2.447821e-06</td>\n",
       "      <td>3.500556e-05</td>\n",
       "      <td>0.000135</td>\n",
       "      <td>1.795568e-02</td>\n",
       "      <td>5.937852e-05</td>\n",
       "      <td>1.514463e-06</td>\n",
       "      <td>3.731925e-05</td>\n",
       "    </tr>\n",
       "    <tr>\n",
       "      <th>3</th>\n",
       "      <td>0.430861</td>\n",
       "      <td>0.498124</td>\n",
       "      <td>0.444328</td>\n",
       "      <td>0.330668</td>\n",
       "      <td>2.003128e-03</td>\n",
       "      <td>2.672720e-04</td>\n",
       "      <td>1.061614e-01</td>\n",
       "      <td>0.000002</td>\n",
       "      <td>5.254505e-08</td>\n",
       "      <td>1.820941e-12</td>\n",
       "      <td>...</td>\n",
       "      <td>3.258212e-06</td>\n",
       "      <td>1.957064e-06</td>\n",
       "      <td>2.062541e-07</td>\n",
       "      <td>7.144743e-08</td>\n",
       "      <td>4.216181e-09</td>\n",
       "      <td>0.982406</td>\n",
       "      <td>6.542097e-11</td>\n",
       "      <td>2.578419e-04</td>\n",
       "      <td>2.298854e-11</td>\n",
       "      <td>2.003536e-08</td>\n",
       "    </tr>\n",
       "    <tr>\n",
       "      <th>4</th>\n",
       "      <td>0.025492</td>\n",
       "      <td>0.000834</td>\n",
       "      <td>0.002105</td>\n",
       "      <td>0.000337</td>\n",
       "      <td>1.288790e-03</td>\n",
       "      <td>1.711351e-04</td>\n",
       "      <td>8.444892e-03</td>\n",
       "      <td>0.614128</td>\n",
       "      <td>1.791278e-06</td>\n",
       "      <td>8.381579e-04</td>\n",
       "      <td>...</td>\n",
       "      <td>9.107274e-01</td>\n",
       "      <td>7.671440e-04</td>\n",
       "      <td>8.000983e-06</td>\n",
       "      <td>4.121738e-03</td>\n",
       "      <td>6.903926e-03</td>\n",
       "      <td>0.000022</td>\n",
       "      <td>1.245766e-03</td>\n",
       "      <td>2.811244e-01</td>\n",
       "      <td>4.861603e-07</td>\n",
       "      <td>1.843189e-09</td>\n",
       "    </tr>\n",
       "  </tbody>\n",
       "</table>\n",
       "<p>5 rows × 28 columns</p>\n",
       "</div>"
      ],
      "text/plain": [
       "   Actin filaments  Aggresome  Cell junctions  Centrosome  Cytokinetic bridge  \\\n",
       "0         0.999700   0.001855        0.970606    0.047800        5.074902e-06   \n",
       "1         0.999986   0.000843        1.000000    0.000005        6.921140e-10   \n",
       "2         0.029993   0.026775        0.929866    0.004068        1.346929e-04   \n",
       "3         0.430861   0.498124        0.444328    0.330668        2.003128e-03   \n",
       "4         0.025492   0.000834        0.002105    0.000337        1.288790e-03   \n",
       "\n",
       "   Cytoplasmic bodies       Cytosol  Endoplasmic reticulum     Endosomes  \\\n",
       "0        2.518818e-04  4.365859e-04               0.533183  6.151713e-04   \n",
       "1        1.652448e-08  2.862340e-07               0.578030  6.491750e-09   \n",
       "2        4.544507e-01  2.768854e-03               0.526594  2.579114e-06   \n",
       "3        2.672720e-04  1.061614e-01               0.000002  5.254505e-08   \n",
       "4        1.711351e-04  8.444892e-03               0.614128  1.791278e-06   \n",
       "\n",
       "   Focal adhesion sites      ...       Mitotic spindle  Nuclear bodies  \\\n",
       "0          3.350273e-06      ...          1.114176e-04    3.250252e-03   \n",
       "1          2.443157e-16      ...          5.359015e-10    3.801069e-07   \n",
       "2          3.940754e-07      ...          1.539109e-02    4.972427e-03   \n",
       "3          1.820941e-12      ...          3.258212e-06    1.957064e-06   \n",
       "4          8.381579e-04      ...          9.107274e-01    7.671440e-04   \n",
       "\n",
       "   Nuclear membrane  Nuclear speckles      Nucleoli  \\\n",
       "0      3.099554e-03      4.476738e-06  3.293580e-04   \n",
       "1      4.650650e-10      1.166408e-11  3.474331e-10   \n",
       "2      7.612254e-06      2.447821e-06  3.500556e-05   \n",
       "3      2.062541e-07      7.144743e-08  4.216181e-09   \n",
       "4      8.000983e-06      4.121738e-03  6.903926e-03   \n",
       "\n",
       "   Nucleoli fibrillar center   Nucleoplasm   Peroxisomes  Plasma membrane  \\\n",
       "0                   0.000198  3.274348e-02  2.982811e-05     1.216210e-06   \n",
       "1                   0.000022  4.537802e-09  3.234564e-09     4.897824e-15   \n",
       "2                   0.000135  1.795568e-02  5.937852e-05     1.514463e-06   \n",
       "3                   0.982406  6.542097e-11  2.578419e-04     2.298854e-11   \n",
       "4                   0.000022  1.245766e-03  2.811244e-01     4.861603e-07   \n",
       "\n",
       "   Rods & rings  \n",
       "0  2.837635e-04  \n",
       "1  2.433987e-10  \n",
       "2  3.731925e-05  \n",
       "3  2.003536e-08  \n",
       "4  1.843189e-09  \n",
       "\n",
       "[5 rows x 28 columns]"
      ]
     },
     "execution_count": 27,
     "metadata": {},
     "output_type": "execute_result"
    }
   ],
   "source": [
    "baseline_proba_predictions = pd.DataFrame(proba_predictions_baseline, columns=train_labels.drop([\"Target\", \"number_of_targets\", \"Id\"], axis=1).columns)\n",
    "baseline_proba_predictions.head()"
   ]
  },
  {
   "cell_type": "code",
   "execution_count": 28,
   "metadata": {
    "collapsed": true
   },
   "outputs": [],
   "source": [
    "baseline_proba_predictions.to_csv(\"best_predictions_aug.csv\")"
   ]
  },
  {
   "cell_type": "code",
   "execution_count": 29,
   "metadata": {
    "collapsed": true
   },
   "outputs": [],
   "source": [
    "baseline_proba_predictions = pd.read_csv(\"./best_predictions_aug.csv\", index_col=0)\n",
    "validation_labels = lastFullValLabels"
   ]
  },
  {
   "cell_type": "code",
   "execution_count": 30,
   "metadata": {
    "collapsed": true
   },
   "outputs": [],
   "source": [
    "proba_predictions = baseline_proba_predictions.values"
   ]
  },
  {
   "cell_type": "code",
   "execution_count": 31,
   "metadata": {
    "collapsed": true
   },
   "outputs": [],
   "source": [
    "hot_values = lastFullValLabels\n",
    "one_hot = (hot_values.sum()) / hot_values.shape[0] * 100\n",
    "zero_hot = (hot_values.shape[0] - hot_values.sum()) / hot_values.shape[0] * 100"
   ]
  },
  {
   "cell_type": "code",
   "execution_count": 32,
   "metadata": {},
   "outputs": [
    {
     "name": "stderr",
     "output_type": "stream",
     "text": [
      "/home/ef2603jca2158/anaconda3/lib/python3.6/site-packages/scipy/stats/stats.py:1713: FutureWarning: Using a non-tuple sequence for multidimensional indexing is deprecated; use `arr[tuple(seq)]` instead of `arr[seq]`. In the future this will be interpreted as an array index, `arr[np.array(seq)]`, which will result either in an error or a different result.\n",
      "  return np.add.reduce(sorted[indexer] * weights, axis=axis) / sumval\n"
     ]
    },
    {
     "data": {
      "text/plain": [
       "Text(0, 0.5, 'Percentage')"
      ]
     },
     "execution_count": 32,
     "metadata": {},
     "output_type": "execute_result"
    },
    {
     "data": {
      "image/png": "[encoded data removed]",
      "text/plain": [
       "<Figure size 1440x360 with 2 Axes>"
      ]
     },
     "metadata": {},
     "output_type": "display_data"
    }
   ],
   "source": [
    "import matplotlib.pyplot as plt\n",
    "import seaborn as sns\n",
    "sns.set()\n",
    "fig, ax = plt.subplots(1,2, figsize=(20,5))\n",
    "sns.distplot(proba_predictions.flatten() * 100, color=\"DodgerBlue\", ax=ax[0])\n",
    "ax[0].set_xlabel(\"Probability in %\")\n",
    "ax[0].set_ylabel(\"Density\")\n",
    "ax[0].set_title(\"Predicted probabilities\")\n",
    "sns.barplot(x=[\"label = 0\", \"label = 1\"], y=[zero_hot, one_hot], ax=ax[1])\n",
    "ax[1].set_ylim([0,100])\n",
    "ax[1].set_title(\"True target label count\")\n",
    "ax[1].set_ylabel(\"Percentage\")"
   ]
  },
  {
   "cell_type": "code",
   "execution_count": 33,
   "metadata": {},
   "outputs": [
    {
     "data": {
      "text/plain": [
       "Text(0.5, 1.0, 'Standard deviation of predicted probability per class over all samples')"
      ]
     },
     "execution_count": 33,
     "metadata": {},
     "output_type": "execute_result"
    },
    {
     "data": {
      "image/png": "[encoded data removed]",
      "text/plain": [
       "<Figure size 1440x360 with 2 Axes>"
      ]
     },
     "metadata": {},
     "output_type": "display_data"
    }
   ],
   "source": [
    "mean_predictions = np.mean(proba_predictions, axis=0)\n",
    "std_predictions = np.std(proba_predictions, axis=0)\n",
    "#mean_targets = validation_labels.drop([\"Id\", \"Target\", \"number_of_targets\"], axis=1).fillna(0).mean()\n",
    "\n",
    "#labels = validation_labels.drop([\"Id\", \"Target\", \"number_of_targets\"], axis=1).columns.values\n",
    "baselabels = baseline_proba_predictions.columns.values\n",
    "\n",
    "fig, ax = plt.subplots(1,2,figsize=(20,5))\n",
    "sns.barplot(x=baselabels,\n",
    "            y=mean_predictions,\n",
    "            ax=ax[0])\n",
    "\n",
    "ax[0].set_xticklabels(labels=label_names.values(),\n",
    "                      rotation=90)\n",
    "ax[0].set_ylabel(\"Mean predicted probability\")\n",
    "ax[0].set_title(\"Mean predicted probability per class over all samples\")\n",
    "sns.barplot(x=baselabels,\n",
    "           y=std_predictions,\n",
    "           ax=ax[1])\n",
    "\n",
    "ax[1].set_xticklabels(labels=label_names.values(),\n",
    "                      rotation=90)\n",
    "ax[1].set_ylabel(\"Standard deviation\")\n",
    "ax[1].set_title(\"Standard deviation of predicted probability per class over all samples\")\n",
    "\n",
    "#plt.savefig(\"Unet.png\")"
   ]
  },
  {
   "cell_type": "code",
   "execution_count": null,
   "metadata": {
    "collapsed": true
   },
   "outputs": [],
   "source": []
  }
 ],
 "metadata": {
  "kernelspec": {
   "display_name": "Python 3",
   "language": "python",
   "name": "python3"
  },
  "language_info": {
   "codemirror_mode": {
    "name": "ipython",
    "version": 3
   },
   "file_extension": ".py",
   "mimetype": "text/x-python",
   "name": "python",
   "nbconvert_exporter": "python",
   "pygments_lexer": "ipython3",
   "version": "3.6.2"
  }
 },
 "nbformat": 4,
 "nbformat_minor": 1
}
